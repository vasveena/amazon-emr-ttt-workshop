{
 "cells": [
  {
   "cell_type": "code",
   "execution_count": null,
   "metadata": {
    "tags": []
   },
   "outputs": [],
   "source": [
    "# Default parameters\n",
    "CATEGORIES = [\"Apparel\", \"Baby\"]\n",
    "FROM_DATE = \"2015-08-28\"\n",
    "TO_DATE = \"2015-08-30\"\n",
    "OUTPUT_LOCATION = \"s3://mrworkshop-youraccountID-dayone/studio/best_sellers_output/\""
   ]
  },
  {
   "cell_type": "code",
   "execution_count": null,
   "metadata": {},
   "outputs": [],
   "source": [
    "for CATEGORY in CATEGORIES:\n",
    "    sql = (\n",
    "        f\"CREATE EXTERNAL TABLE IF NOT EXISTS {CATEGORY}\"\n",
    "        \"(review_id STRING,product_id STRING,product_title STRING,star_rating INT,verified_purchase STRING,review_date DATE)\"\n",
    "        f\"STORED AS PARQUET LOCATION 's3://amazon-reviews-pds/parquet/product_category={CATEGORY}/'\"\n",
    "    )\n",
    "\n",
    "    spark.sql(sql)"
   ]
  },
  {
   "cell_type": "code",
   "execution_count": null,
   "metadata": {},
   "outputs": [],
   "source": [
    "spark.sql(\"show tables\").show()"
   ]
  },
  {
   "cell_type": "code",
   "execution_count": null,
   "metadata": {
    "tags": []
   },
   "outputs": [],
   "source": [
    "for CATEGORY in CATEGORIES:\n",
    "    sql = (\n",
    "        f\"SELECT product_title, AVG(star_rating), count(review_id) AS review_count FROM {CATEGORY} \"\n",
    "        f\"WHERE review_date >= '{FROM_DATE}' AND review_date <= '{TO_DATE}' AND verified_purchase='Y' \"\n",
    "        \"GROUP BY product_title \"\n",
    "        \"ORDER BY SUM(star_rating) desc \"\n",
    "        \"limit 20\"\n",
    "    )\n",
    "\n",
    "    df = spark.sql(sql)\n",
    "    output_folder = f\"{OUTPUT_LOCATION}/{CATEGORY}_{FROM_DATE}_{TO_DATE}\"\n",
    "    df.write.csv(output_folder, mode=\"overwrite\")\n",
    "    print(f\"Saved query result to {output_folder}\")"
   ]
  },
  {
   "cell_type": "code",
   "execution_count": null,
   "metadata": {},
   "outputs": [],
   "source": []
  }
 ],
 "metadata": {
  "kernelspec": {
   "display_name": "PySpark",
   "language": "",
   "name": "pysparkkernel"
  },
  "language_info": {
   "codemirror_mode": {
    "name": "python",
    "version": 3
   },
   "mimetype": "text/x-python",
   "name": "pyspark",
   "pygments_lexer": "python3"
  }
 },
 "nbformat": 4,
 "nbformat_minor": 4
}
