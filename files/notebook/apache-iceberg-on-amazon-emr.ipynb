{
 "cells": [
  {
   "cell_type": "code",
   "execution_count": 2,
   "id": "6f616e94",
   "metadata": {},
   "outputs": [
    {
     "name": "stdout",
     "output_type": "stream",
     "text": [
      "Starting Spark application\n"
     ]
    },
    {
     "data": {
      "text/html": [
       "<table>\n",
       "<tr><th>ID</th><th>YARN Application ID</th><th>Kind</th><th>State</th><th>Spark UI</th><th>Driver log</th><th>Current session?</th></tr><tr><td>1</td><td>application_1643043567258_0003</td><td>spark</td><td>idle</td><td><a target=\"_blank\" href=\"http://ip-172-31-35-18.ec2.internal:20888/proxy/application_1643043567258_0003/\" class=\"emr-proxy-link\" emr-resource=\"j-DWLU1H2KGHK9\n",
       "\" application-id=\"application_1643043567258_0003\">Link</a></td><td><a target=\"_blank\" href=\"http://ip-172-31-42-148.ec2.internal:8042/node/containerlogs/container_1643043567258_0003_01_000001/livy\" >Link</a></td><td>✔</td></tr></table>"
      ],
      "text/plain": [
       "<IPython.core.display.HTML object>"
      ]
     },
     "metadata": {},
     "output_type": "display_data"
    },
    {
     "data": {
      "application/vnd.jupyter.widget-view+json": {
       "model_id": "",
       "version_major": 2,
       "version_minor": 0
      },
      "text/plain": [
       "FloatProgress(value=0.0, bar_style='info', description='Progress:', layout=Layout(height='25px', width='50%'),…"
      ]
     },
     "metadata": {},
     "output_type": "display_data"
    },
    {
     "name": "stdout",
     "output_type": "stream",
     "text": [
      "SparkSession available as 'spark'.\n"
     ]
    },
    {
     "data": {
      "text/html": [
       "Current session configs: <tt>{'conf': {'spark.sql.extensions': 'org.apache.iceberg.spark.extensions.IcebergSparkSessionExtensions', 'spark.sql.catalog.spark_catalog': 'org.apache.iceberg.spark.SparkSessionCatalog', 'spark.sql.catalog.spark_catalog.type': 'hive', 'spark.sql.catalog.dev': 'org.apache.iceberg.spark.SparkCatalog', 'spark.sql.catalog.dev.type': 'hadoop', 'spark.sql.catalog.dev.warehouse': 's3://vasveena-test-demo/iceberg/catalog/tables/'}, 'proxyUser': 'user_vasveena', 'kind': 'spark'}</tt><br>"
      ],
      "text/plain": [
       "<IPython.core.display.HTML object>"
      ]
     },
     "metadata": {},
     "output_type": "display_data"
    },
    {
     "data": {
      "text/html": [
       "<table>\n",
       "<tr><th>ID</th><th>YARN Application ID</th><th>Kind</th><th>State</th><th>Spark UI</th><th>Driver log</th><th>Current session?</th></tr><tr><td>1</td><td>application_1643043567258_0003</td><td>spark</td><td>idle</td><td><a target=\"_blank\" href=\"http://ip-172-31-35-18.ec2.internal:20888/proxy/application_1643043567258_0003/\" class=\"emr-proxy-link\" emr-resource=\"j-DWLU1H2KGHK9\n",
       "\" application-id=\"application_1643043567258_0003\">Link</a></td><td><a target=\"_blank\" href=\"http://ip-172-31-42-148.ec2.internal:8042/node/containerlogs/container_1643043567258_0003_01_000001/livy\" >Link</a></td><td>✔</td></tr></table>"
      ],
      "text/plain": [
       "<IPython.core.display.HTML object>"
      ]
     },
     "metadata": {},
     "output_type": "display_data"
    }
   ],
   "source": [
    "%%configure -f\n",
    "{\n",
    "\"conf\":{\n",
    "    \"spark.sql.extensions\":\"org.apache.iceberg.spark.extensions.IcebergSparkSessionExtensions\",\n",
    "    \"spark.sql.catalog.spark_catalog\":\"org.apache.iceberg.spark.SparkSessionCatalog\",\n",
    "    \"spark.sql.catalog.spark_catalog.type\":\"hive\",\n",
    "    \"spark.sql.catalog.dev\":\"org.apache.iceberg.spark.SparkCatalog\",\n",
    "    \"spark.sql.catalog.dev.type\":\"hadoop\",\n",
    "    \"spark.sql.catalog.dev.warehouse\":\"s3://vasveena-test-demo/iceberg/catalog/tables/\"\n",
    "    }\n",
    "}"
   ]
  },
  {
   "cell_type": "code",
   "execution_count": 4,
   "id": "33fba05e",
   "metadata": {},
   "outputs": [
    {
     "data": {
      "application/vnd.jupyter.widget-view+json": {
       "model_id": "125bf41892d0476e9aace620fbb05836",
       "version_major": 2,
       "version_minor": 0
      },
      "text/plain": [
       "VBox()"
      ]
     },
     "metadata": {},
     "output_type": "display_data"
    },
    {
     "data": {
      "application/vnd.jupyter.widget-view+json": {
       "model_id": "",
       "version_major": 2,
       "version_minor": 0
      },
      "text/plain": [
       "FloatProgress(value=0.0, bar_style='info', description='Progress:', layout=Layout(height='25px', width='50%'),…"
      ]
     },
     "metadata": {},
     "output_type": "display_data"
    },
    {
     "name": "stdout",
     "output_type": "stream",
     "text": [
      "input_df: org.apache.spark.sql.DataFrame = [id: bigint, month: bigint ... 5 more fields]\n",
      "res6: Long = 2700000000\n"
     ]
    }
   ],
   "source": [
    "val input_df = spark.read.parquet(\"s3://vasveena-test-demo/tmp/hudi-perf/input/\")\n",
    "input_df.count()"
   ]
  },
  {
   "cell_type": "code",
   "execution_count": 5,
   "id": "050f146c",
   "metadata": {},
   "outputs": [
    {
     "data": {
      "application/vnd.jupyter.widget-view+json": {
       "model_id": "fb785472402f42e98c73fe76a8d0f9ec",
       "version_major": 2,
       "version_minor": 0
      },
      "text/plain": [
       "VBox()"
      ]
     },
     "metadata": {},
     "output_type": "display_data"
    },
    {
     "data": {
      "application/vnd.jupyter.widget-view+json": {
       "model_id": "",
       "version_major": 2,
       "version_minor": 0
      },
      "text/plain": [
       "FloatProgress(value=0.0, bar_style='info', description='Progress:', layout=Layout(height='25px', width='50%'),…"
      ]
     },
     "metadata": {},
     "output_type": "display_data"
    },
    {
     "name": "stdout",
     "output_type": "stream",
     "text": [
      "import org.apache.spark.sql.functions._\n",
      "input_df2: org.apache.spark.sql.DataFrame = [id: bigint, month: bigint ... 9 more fields]\n",
      "+-------+-----+-------+---+--------------------+----+-------------------+---+--------+------+----------+\n",
      "|     id|month|     sk|txt|                uuid|year| modified_timestamp|  z|schema-v|data-v|  trade_dt|\n",
      "+-------+-----+-------+---+--------------------+----+-------------------+---+--------+------+----------+\n",
      "|4000000|    3|4000000|{E}|6e505939-f5fd-4ab...|2019|2021-04-02 00:05:02|  9|      v1|    v2|2021-04-02|\n",
      "|4000001|    9|4000001|{F}|20486aca-2759-43f...|2019|2021-04-02 00:05:02|  d|      v1|    v2|2021-04-02|\n",
      "|4000002|   11|4000002|{G}|42962a21-a2dc-40d...|2019|2021-04-02 00:05:02|  d|      v1|    v2|2021-04-02|\n",
      "|4000003|    9|4000003|{H}|9841ad6d-1532-496...|2019|2021-04-02 00:05:02|  c|      v1|    v2|2021-04-02|\n",
      "|4000004|    4|4000004|{I}|ff1a855a-cced-495...|2019|2021-04-02 00:05:02|  4|      v1|    v2|2021-04-02|\n",
      "+-------+-----+-------+---+--------------------+----+-------------------+---+--------+------+----------+\n",
      "only showing top 5 rows\n",
      "\n"
     ]
    }
   ],
   "source": [
    "import org.apache.spark.sql.functions._\n",
    "\n",
    "val input_df2=(input_df.withColumn(\"z\", substring(md5(concat($\"id\")),1,1))\n",
    "                       .withColumn(\"schema-v\", lit(\"v1\")).withColumn(\"data-v\", lit(\"v2\"))\n",
    "                       .withColumn(\"trade_dt\", substring($\"modified_timestamp\",1,10)))\n",
    "input_df2.show(5)"
   ]
  },
  {
   "cell_type": "code",
   "execution_count": 6,
   "id": "af9252b4",
   "metadata": {},
   "outputs": [
    {
     "data": {
      "application/vnd.jupyter.widget-view+json": {
       "model_id": "23bb6f8a12d24dcfa157c501ed72c9d3",
       "version_major": 2,
       "version_minor": 0
      },
      "text/plain": [
       "VBox()"
      ]
     },
     "metadata": {},
     "output_type": "display_data"
    },
    {
     "data": {
      "application/vnd.jupyter.widget-view+json": {
       "model_id": "",
       "version_major": 2,
       "version_minor": 0
      },
      "text/plain": [
       "FloatProgress(value=0.0, bar_style='info', description='Progress:', layout=Layout(height='25px', width='50%'),…"
      ]
     },
     "metadata": {},
     "output_type": "display_data"
    },
    {
     "name": "stdout",
     "output_type": "stream",
     "text": [
      "input_df4: org.apache.spark.sql.DataFrame = [id: bigint, month: bigint ... 9 more fields]\n"
     ]
    }
   ],
   "source": [
    "val input_df4 = input_df2.withColumnRenamed(\"schema-v\", \"schema_v\").withColumnRenamed(\"data-v\", \"data_v\")"
   ]
  },
  {
   "cell_type": "code",
   "execution_count": 10,
   "id": "b0e7a31f",
   "metadata": {},
   "outputs": [
    {
     "data": {
      "application/vnd.jupyter.widget-view+json": {
       "model_id": "9d0cc7ad600847a9a7ecc283f1b8cef2",
       "version_major": 2,
       "version_minor": 0
      },
      "text/plain": [
       "VBox()"
      ]
     },
     "metadata": {},
     "output_type": "display_data"
    },
    {
     "data": {
      "application/vnd.jupyter.widget-view+json": {
       "model_id": "",
       "version_major": 2,
       "version_minor": 0
      },
      "text/plain": [
       "FloatProgress(value=0.0, bar_style='info', description='Progress:', layout=Layout(height='25px', width='50%'),…"
      ]
     },
     "metadata": {},
     "output_type": "display_data"
    },
    {
     "name": "stdout",
     "output_type": "stream",
     "text": [
      "res12: org.apache.spark.sql.DataFrame = []\n"
     ]
    }
   ],
   "source": [
    "spark.sql(\"drop table dev.db.iceberg_demo_table\")"
   ]
  },
  {
   "cell_type": "code",
   "execution_count": 11,
   "id": "d33d7a31",
   "metadata": {},
   "outputs": [
    {
     "data": {
      "application/vnd.jupyter.widget-view+json": {
       "model_id": "f6201a7be1d14ae985ffd85ba53a7f45",
       "version_major": 2,
       "version_minor": 0
      },
      "text/plain": [
       "VBox()"
      ]
     },
     "metadata": {},
     "output_type": "display_data"
    },
    {
     "data": {
      "application/vnd.jupyter.widget-view+json": {
       "model_id": "",
       "version_major": 2,
       "version_minor": 0
      },
      "text/plain": [
       "FloatProgress(value=0.0, bar_style='info', description='Progress:', layout=Layout(height='25px', width='50%'),…"
      ]
     },
     "metadata": {},
     "output_type": "display_data"
    },
    {
     "name": "stdout",
     "output_type": "stream",
     "text": [
      "res13: org.apache.spark.sql.DataFrame = []\n"
     ]
    }
   ],
   "source": [
    "spark.sql(\"\"\"CREATE TABLE dev.db.iceberg_demo_table (id bigint,\n",
    "                                       month bigint,\n",
    "                                       sk bigint,\n",
    "                                       txt struct<key1:string>,\n",
    "                                       uuid string,\n",
    "                                       year string,\n",
    "                                       modified_timestamp timestamp,\n",
    "                                       z string,\n",
    "                                       schema_v string,\n",
    "                                       data_v string,\n",
    "                                       trade_dt string)\n",
    "USING iceberg\n",
    "PARTITIONED BY (z,schema_v,data_v,trade_dt)\n",
    "location  's3://vasveena-test-demo/iceberg/catalog/tables/db/iceberg_demo_table'\"\"\")"
   ]
  },
  {
   "cell_type": "code",
   "execution_count": 12,
   "id": "5dbab250",
   "metadata": {},
   "outputs": [
    {
     "data": {
      "application/vnd.jupyter.widget-view+json": {
       "model_id": "b45a2d7f1ac34d58b6e8835c9b654759",
       "version_major": 2,
       "version_minor": 0
      },
      "text/plain": [
       "VBox()"
      ]
     },
     "metadata": {},
     "output_type": "display_data"
    },
    {
     "data": {
      "application/vnd.jupyter.widget-view+json": {
       "model_id": "",
       "version_major": 2,
       "version_minor": 0
      },
      "text/plain": [
       "FloatProgress(value=0.0, bar_style='info', description='Progress:', layout=Layout(height='25px', width='50%'),…"
      ]
     },
     "metadata": {},
     "output_type": "display_data"
    },
    {
     "name": "stdout",
     "output_type": "stream",
     "text": [
      "t1: Long = 12988155581888\n",
      "duration: String = 879.612711344seconds\n"
     ]
    }
   ],
   "source": [
    "val t1 = System.nanoTime\n",
    "input_df4.sortWithinPartitions(\"z\",\"schema_v\",\"data_v\",\"trade_dt\").writeTo(\"dev.db.iceberg_demo_table\").overwritePartitions()\n",
    "val duration = (System.nanoTime - t1) / 1e9d + \"seconds\""
   ]
  },
  {
   "cell_type": "code",
   "execution_count": 13,
   "id": "e9ada7d8",
   "metadata": {},
   "outputs": [
    {
     "data": {
      "application/vnd.jupyter.widget-view+json": {
       "model_id": "845194f81a664e7e90bf7c5b25f3de61",
       "version_major": 2,
       "version_minor": 0
      },
      "text/plain": [
       "VBox()"
      ]
     },
     "metadata": {},
     "output_type": "display_data"
    },
    {
     "data": {
      "application/vnd.jupyter.widget-view+json": {
       "model_id": "",
       "version_major": 2,
       "version_minor": 0
      },
      "text/plain": [
       "FloatProgress(value=0.0, bar_style='info', description='Progress:', layout=Layout(height='25px', width='50%'),…"
      ]
     },
     "metadata": {},
     "output_type": "display_data"
    },
    {
     "name": "stdout",
     "output_type": "stream",
     "text": [
      "+-------+-----+-------+---+--------------------+----+-------------------+---+--------+------+----------+\n",
      "|     id|month|     sk|txt|                uuid|year| modified_timestamp|  z|schema_v|data_v|  trade_dt|\n",
      "+-------+-----+-------+---+--------------------+----+-------------------+---+--------+------+----------+\n",
      "|4000012|    8|4000012|{Q}|961f28a6-e8c9-426...|2019|2021-04-02 00:05:02|  0|      v1|    v2|2021-04-02|\n",
      "|4000016|    3|4000016|{U}|8cd50d7c-f23b-4b3...|2019|2021-04-02 00:05:02|  0|      v1|    v2|2021-04-02|\n",
      "|4000028|   11|4000028|{G}|b1768394-e790-40d...|2019|2021-04-02 00:05:02|  0|      v1|    v2|2021-04-02|\n",
      "|4000035|    3|4000035|{N}|d4e09d39-c604-45a...|2019|2021-04-02 00:05:02|  0|      v1|    v2|2021-04-02|\n",
      "|4000037|    3|4000037|{P}|8e3008c9-e455-4fb...|2019|2021-04-02 00:05:02|  0|      v1|    v2|2021-04-02|\n",
      "|4000063|   11|4000063|{P}|97ba4bca-b65b-465...|2019|2021-04-02 00:05:02|  0|      v1|    v2|2021-04-02|\n",
      "|4000070|    2|4000070|{W}|d918732f-6a06-46a...|2019|2021-04-02 00:05:02|  0|      v1|    v2|2021-04-02|\n",
      "|4000081|    1|4000081|{H}|50b70f1c-70f3-4f4...|2019|2021-04-02 00:05:02|  0|      v1|    v2|2021-04-02|\n",
      "|4000101|   12|4000101|{B}|f573950a-17a7-493...|2019|2021-04-02 00:05:02|  0|      v1|    v2|2021-04-02|\n",
      "|4000105|    3|4000105|{F}|e48ad35d-3966-4f9...|2019|2021-04-02 00:05:02|  0|      v1|    v2|2021-04-02|\n",
      "+-------+-----+-------+---+--------------------+----+-------------------+---+--------+------+----------+\n",
      "\n"
     ]
    }
   ],
   "source": [
    "spark.sql(\"select * from dev.db.iceberg_demo_table limit 10\").show()"
   ]
  },
  {
   "cell_type": "code",
   "execution_count": 14,
   "id": "25bbc778",
   "metadata": {},
   "outputs": [
    {
     "data": {
      "application/vnd.jupyter.widget-view+json": {
       "model_id": "fd2a1d67a0bb4baca17e35346ce17d36",
       "version_major": 2,
       "version_minor": 0
      },
      "text/plain": [
       "VBox()"
      ]
     },
     "metadata": {},
     "output_type": "display_data"
    },
    {
     "data": {
      "application/vnd.jupyter.widget-view+json": {
       "model_id": "",
       "version_major": 2,
       "version_minor": 0
      },
      "text/plain": [
       "FloatProgress(value=0.0, bar_style='info', description='Progress:', layout=Layout(height='25px', width='50%'),…"
      ]
     },
     "metadata": {},
     "output_type": "display_data"
    },
    {
     "name": "stdout",
     "output_type": "stream",
     "text": [
      "+-------+-----+-------+---+--------------------+----+-------------------+---+--------+------+----------+\n",
      "|     id|month|     sk|txt|                uuid|year| modified_timestamp|  z|schema_v|data_v|  trade_dt|\n",
      "+-------+-----+-------+---+--------------------+----+-------------------+---+--------+------+----------+\n",
      "|4000012|    8|4000012|{Q}|961f28a6-e8c9-426...|2019|2021-04-02 00:05:02|  0|      v1|    v2|2021-04-02|\n",
      "|4000012|    8|4000012|{Q}|961f28a6-e8c9-426...|2019|2021-04-02 00:05:02|  0|      v1|    v2|2021-04-02|\n",
      "|4000012|    8|4000012|{Q}|961f28a6-e8c9-426...|2019|2021-04-02 00:05:02|  0|      v1|    v2|2021-04-02|\n",
      "|4000012|    8|4000012|{Q}|961f28a6-e8c9-426...|2019|2021-04-02 00:05:02|  0|      v1|    v2|2021-04-02|\n",
      "|4000012|    8|4000012|{Q}|961f28a6-e8c9-426...|2019|2021-04-02 00:05:02|  0|      v1|    v2|2021-04-02|\n",
      "|4000012|    8|4000012|{Q}|961f28a6-e8c9-426...|2019|2021-04-02 00:05:02|  0|      v1|    v2|2021-04-02|\n",
      "|4000012|    8|4000012|{Q}|961f28a6-e8c9-426...|2019|2021-04-02 00:05:02|  0|      v1|    v2|2021-04-02|\n",
      "|4000012|    8|4000012|{Q}|961f28a6-e8c9-426...|2019|2021-04-02 00:05:02|  0|      v1|    v2|2021-04-02|\n",
      "|4000012|    8|4000012|{Q}|961f28a6-e8c9-426...|2019|2021-04-02 00:05:02|  0|      v1|    v2|2021-04-02|\n",
      "|4000012|    8|4000012|{Q}|961f28a6-e8c9-426...|2019|2021-04-02 00:05:02|  0|      v1|    v2|2021-04-02|\n",
      "|4000012|    8|4000012|{Q}|961f28a6-e8c9-426...|2019|2021-04-02 00:05:02|  0|      v1|    v2|2021-04-02|\n",
      "|4000012|    8|4000012|{Q}|961f28a6-e8c9-426...|2019|2021-04-02 00:05:02|  0|      v1|    v2|2021-04-02|\n",
      "|4000012|    8|4000012|{Q}|961f28a6-e8c9-426...|2019|2021-04-02 00:05:02|  0|      v1|    v2|2021-04-02|\n",
      "|4000012|    8|4000012|{Q}|961f28a6-e8c9-426...|2019|2021-04-02 00:05:02|  0|      v1|    v2|2021-04-02|\n",
      "|4000012|    8|4000012|{Q}|961f28a6-e8c9-426...|2019|2021-04-02 00:05:02|  0|      v1|    v2|2021-04-02|\n",
      "|4000012|    8|4000012|{Q}|961f28a6-e8c9-426...|2019|2021-04-02 00:05:02|  0|      v1|    v2|2021-04-02|\n",
      "|4000012|    8|4000012|{Q}|961f28a6-e8c9-426...|2019|2021-04-02 00:05:02|  0|      v1|    v2|2021-04-02|\n",
      "|4000012|    8|4000012|{Q}|961f28a6-e8c9-426...|2019|2021-04-02 00:05:02|  0|      v1|    v2|2021-04-02|\n",
      "|4000012|    8|4000012|{Q}|961f28a6-e8c9-426...|2019|2021-04-02 00:05:02|  0|      v1|    v2|2021-04-02|\n",
      "|4000012|    8|4000012|{Q}|961f28a6-e8c9-426...|2019|2021-04-02 00:05:02|  0|      v1|    v2|2021-04-02|\n",
      "+-------+-----+-------+---+--------------------+----+-------------------+---+--------+------+----------+\n",
      "only showing top 20 rows\n",
      "\n"
     ]
    }
   ],
   "source": [
    "spark.sql(\"select * from dev.db.iceberg_demo_table where id = 4000012\").show()"
   ]
  },
  {
   "cell_type": "code",
   "execution_count": 17,
   "id": "f3002c90",
   "metadata": {},
   "outputs": [
    {
     "data": {
      "application/vnd.jupyter.widget-view+json": {
       "model_id": "d815f9ad7317430aa93bcd1d0dadaabb",
       "version_major": 2,
       "version_minor": 0
      },
      "text/plain": [
       "VBox()"
      ]
     },
     "metadata": {},
     "output_type": "display_data"
    },
    {
     "data": {
      "application/vnd.jupyter.widget-view+json": {
       "model_id": "",
       "version_major": 2,
       "version_minor": 0
      },
      "text/plain": [
       "FloatProgress(value=0.0, bar_style='info', description='Progress:', layout=Layout(height='25px', width='50%'),…"
      ]
     },
     "metadata": {},
     "output_type": "display_data"
    },
    {
     "name": "stdout",
     "output_type": "stream",
     "text": [
      "res19: org.apache.spark.sql.DataFrame = []\n"
     ]
    }
   ],
   "source": [
    "spark.sql(\"\"\"UPDATE dev.db.iceberg_demo_table\n",
    "SET year = '2022', month = 1\n",
    "WHERE id = 4000012\n",
    "\"\"\")"
   ]
  },
  {
   "cell_type": "code",
   "execution_count": 18,
   "id": "126fd0d6",
   "metadata": {},
   "outputs": [
    {
     "data": {
      "application/vnd.jupyter.widget-view+json": {
       "model_id": "77106ee68f6e473a83aa82b733c8bb49",
       "version_major": 2,
       "version_minor": 0
      },
      "text/plain": [
       "VBox()"
      ]
     },
     "metadata": {},
     "output_type": "display_data"
    },
    {
     "data": {
      "application/vnd.jupyter.widget-view+json": {
       "model_id": "",
       "version_major": 2,
       "version_minor": 0
      },
      "text/plain": [
       "FloatProgress(value=0.0, bar_style='info', description='Progress:', layout=Layout(height='25px', width='50%'),…"
      ]
     },
     "metadata": {},
     "output_type": "display_data"
    },
    {
     "name": "stdout",
     "output_type": "stream",
     "text": [
      "+-------+-----+-------+---+--------------------+----+-------------------+---+--------+------+----------+\n",
      "|     id|month|     sk|txt|                uuid|year| modified_timestamp|  z|schema_v|data_v|  trade_dt|\n",
      "+-------+-----+-------+---+--------------------+----+-------------------+---+--------+------+----------+\n",
      "|4000012|    1|4000012|{Q}|961f28a6-e8c9-426...|2022|2021-04-02 00:05:02|  0|      v1|    v2|2021-04-02|\n",
      "|4000012|    1|4000012|{Q}|961f28a6-e8c9-426...|2022|2021-04-02 00:05:02|  0|      v1|    v2|2021-04-02|\n",
      "|4000012|    1|4000012|{Q}|961f28a6-e8c9-426...|2022|2021-04-02 00:05:02|  0|      v1|    v2|2021-04-02|\n",
      "|4000012|    1|4000012|{Q}|961f28a6-e8c9-426...|2022|2021-04-02 00:05:02|  0|      v1|    v2|2021-04-02|\n",
      "|4000012|    1|4000012|{Q}|961f28a6-e8c9-426...|2022|2021-04-02 00:05:02|  0|      v1|    v2|2021-04-02|\n",
      "|4000012|    1|4000012|{Q}|961f28a6-e8c9-426...|2022|2021-04-02 00:05:02|  0|      v1|    v2|2021-04-02|\n",
      "|4000012|    1|4000012|{Q}|961f28a6-e8c9-426...|2022|2021-04-02 00:05:02|  0|      v1|    v2|2021-04-02|\n",
      "|4000012|    1|4000012|{Q}|961f28a6-e8c9-426...|2022|2021-04-02 00:05:02|  0|      v1|    v2|2021-04-02|\n",
      "|4000012|    1|4000012|{Q}|961f28a6-e8c9-426...|2022|2021-04-02 00:05:02|  0|      v1|    v2|2021-04-02|\n",
      "|4000012|    1|4000012|{Q}|961f28a6-e8c9-426...|2022|2021-04-02 00:05:02|  0|      v1|    v2|2021-04-02|\n",
      "|4000012|    1|4000012|{Q}|961f28a6-e8c9-426...|2022|2021-04-02 00:05:02|  0|      v1|    v2|2021-04-02|\n",
      "|4000012|    1|4000012|{Q}|961f28a6-e8c9-426...|2022|2021-04-02 00:05:02|  0|      v1|    v2|2021-04-02|\n",
      "|4000012|    1|4000012|{Q}|961f28a6-e8c9-426...|2022|2021-04-02 00:05:02|  0|      v1|    v2|2021-04-02|\n",
      "|4000012|    1|4000012|{Q}|961f28a6-e8c9-426...|2022|2021-04-02 00:05:02|  0|      v1|    v2|2021-04-02|\n",
      "|4000012|    1|4000012|{Q}|961f28a6-e8c9-426...|2022|2021-04-02 00:05:02|  0|      v1|    v2|2021-04-02|\n",
      "|4000012|    1|4000012|{Q}|961f28a6-e8c9-426...|2022|2021-04-02 00:05:02|  0|      v1|    v2|2021-04-02|\n",
      "|4000012|    1|4000012|{Q}|961f28a6-e8c9-426...|2022|2021-04-02 00:05:02|  0|      v1|    v2|2021-04-02|\n",
      "|4000012|    1|4000012|{Q}|961f28a6-e8c9-426...|2022|2021-04-02 00:05:02|  0|      v1|    v2|2021-04-02|\n",
      "|4000012|    1|4000012|{Q}|961f28a6-e8c9-426...|2022|2021-04-02 00:05:02|  0|      v1|    v2|2021-04-02|\n",
      "|4000012|    1|4000012|{Q}|961f28a6-e8c9-426...|2022|2021-04-02 00:05:02|  0|      v1|    v2|2021-04-02|\n",
      "+-------+-----+-------+---+--------------------+----+-------------------+---+--------+------+----------+\n",
      "only showing top 20 rows\n",
      "\n"
     ]
    }
   ],
   "source": [
    "spark.sql(\"select * from dev.db.iceberg_demo_table where id = 4000012\").show()"
   ]
  },
  {
   "cell_type": "code",
   "execution_count": 25,
   "id": "932e4738",
   "metadata": {},
   "outputs": [
    {
     "data": {
      "application/vnd.jupyter.widget-view+json": {
       "model_id": "631d5f89dad94236a922740df705e63a",
       "version_major": 2,
       "version_minor": 0
      },
      "text/plain": [
       "VBox()"
      ]
     },
     "metadata": {},
     "output_type": "display_data"
    },
    {
     "data": {
      "application/vnd.jupyter.widget-view+json": {
       "model_id": "",
       "version_major": 2,
       "version_minor": 0
      },
      "text/plain": [
       "FloatProgress(value=0.0, bar_style='info', description='Progress:', layout=Layout(height='25px', width='50%'),…"
      ]
     },
     "metadata": {},
     "output_type": "display_data"
    },
    {
     "name": "stdout",
     "output_type": "stream",
     "text": [
      "+-------+-----+-------+---+--------------------+----+-------------------+---+--------+------+----------+\n",
      "|     id|month|     sk|txt|                uuid|year| modified_timestamp|  z|schema_v|data_v|  trade_dt|\n",
      "+-------+-----+-------+---+--------------------+----+-------------------+---+--------+------+----------+\n",
      "|4000105|    3|4000105|{F}|e48ad35d-3966-4f9...|2019|2021-04-02 00:05:02|  0|      v1|    v2|2021-04-02|\n",
      "|4000105|    3|4000105|{F}|e48ad35d-3966-4f9...|2019|2021-04-02 00:05:02|  0|      v1|    v2|2021-04-02|\n",
      "|4000105|    3|4000105|{F}|e48ad35d-3966-4f9...|2019|2021-04-02 00:05:02|  0|      v1|    v2|2021-04-02|\n",
      "|4000105|    3|4000105|{F}|e48ad35d-3966-4f9...|2019|2021-04-02 00:05:02|  0|      v1|    v2|2021-04-02|\n",
      "|4000105|    3|4000105|{F}|e48ad35d-3966-4f9...|2019|2021-04-02 00:05:02|  0|      v1|    v2|2021-04-02|\n",
      "|4000105|    3|4000105|{F}|e48ad35d-3966-4f9...|2019|2021-04-02 00:05:02|  0|      v1|    v2|2021-04-02|\n",
      "|4000105|    3|4000105|{F}|e48ad35d-3966-4f9...|2019|2021-04-02 00:05:02|  0|      v1|    v2|2021-04-02|\n",
      "|4000105|    3|4000105|{F}|e48ad35d-3966-4f9...|2019|2021-04-02 00:05:02|  0|      v1|    v2|2021-04-02|\n",
      "|4000105|    3|4000105|{F}|e48ad35d-3966-4f9...|2019|2021-04-02 00:05:02|  0|      v1|    v2|2021-04-02|\n",
      "|4000105|    3|4000105|{F}|e48ad35d-3966-4f9...|2019|2021-04-02 00:05:02|  0|      v1|    v2|2021-04-02|\n",
      "|4000105|    3|4000105|{F}|e48ad35d-3966-4f9...|2019|2021-04-02 00:05:02|  0|      v1|    v2|2021-04-02|\n",
      "|4000105|    3|4000105|{F}|e48ad35d-3966-4f9...|2019|2021-04-02 00:05:02|  0|      v1|    v2|2021-04-02|\n",
      "|4000105|    3|4000105|{F}|e48ad35d-3966-4f9...|2019|2021-04-02 00:05:02|  0|      v1|    v2|2021-04-02|\n",
      "|4000105|    3|4000105|{F}|e48ad35d-3966-4f9...|2019|2021-04-02 00:05:02|  0|      v1|    v2|2021-04-02|\n",
      "|4000105|    3|4000105|{F}|e48ad35d-3966-4f9...|2019|2021-04-02 00:05:02|  0|      v1|    v2|2021-04-02|\n",
      "|4000105|    3|4000105|{F}|e48ad35d-3966-4f9...|2019|2021-04-02 00:05:02|  0|      v1|    v2|2021-04-02|\n",
      "|4000105|    3|4000105|{F}|e48ad35d-3966-4f9...|2019|2021-04-02 00:05:02|  0|      v1|    v2|2021-04-02|\n",
      "|4000105|    3|4000105|{F}|e48ad35d-3966-4f9...|2019|2021-04-02 00:05:02|  0|      v1|    v2|2021-04-02|\n",
      "|4000105|    3|4000105|{F}|e48ad35d-3966-4f9...|2019|2021-04-02 00:05:02|  0|      v1|    v2|2021-04-02|\n",
      "|4000105|    3|4000105|{F}|e48ad35d-3966-4f9...|2019|2021-04-02 00:05:02|  0|      v1|    v2|2021-04-02|\n",
      "+-------+-----+-------+---+--------------------+----+-------------------+---+--------+------+----------+\n",
      "only showing top 20 rows\n",
      "\n"
     ]
    }
   ],
   "source": [
    "spark.sql(\"select * from dev.db.iceberg_demo_table where id = 4000105\").show()"
   ]
  },
  {
   "cell_type": "code",
   "execution_count": 26,
   "id": "4aa71830",
   "metadata": {},
   "outputs": [
    {
     "data": {
      "application/vnd.jupyter.widget-view+json": {
       "model_id": "8e865de4017343e9b40352a0d8a9997b",
       "version_major": 2,
       "version_minor": 0
      },
      "text/plain": [
       "VBox()"
      ]
     },
     "metadata": {},
     "output_type": "display_data"
    },
    {
     "data": {
      "application/vnd.jupyter.widget-view+json": {
       "model_id": "",
       "version_major": 2,
       "version_minor": 0
      },
      "text/plain": [
       "FloatProgress(value=0.0, bar_style='info', description='Progress:', layout=Layout(height='25px', width='50%'),…"
      ]
     },
     "metadata": {},
     "output_type": "display_data"
    },
    {
     "name": "stdout",
     "output_type": "stream",
     "text": [
      "res28: org.apache.spark.sql.DataFrame = []\n"
     ]
    }
   ],
   "source": [
    "spark.sql(\"DELETE FROM dev.db.iceberg_demo_table WHERE id = 4000105\")"
   ]
  },
  {
   "cell_type": "code",
   "execution_count": 27,
   "id": "2a58f96e",
   "metadata": {},
   "outputs": [
    {
     "data": {
      "application/vnd.jupyter.widget-view+json": {
       "model_id": "eb8bfb1766db4afbb58861ca4ec5adae",
       "version_major": 2,
       "version_minor": 0
      },
      "text/plain": [
       "VBox()"
      ]
     },
     "metadata": {},
     "output_type": "display_data"
    },
    {
     "data": {
      "application/vnd.jupyter.widget-view+json": {
       "model_id": "",
       "version_major": 2,
       "version_minor": 0
      },
      "text/plain": [
       "FloatProgress(value=0.0, bar_style='info', description='Progress:', layout=Layout(height='25px', width='50%'),…"
      ]
     },
     "metadata": {},
     "output_type": "display_data"
    },
    {
     "name": "stdout",
     "output_type": "stream",
     "text": [
      "+---+-----+---+---+----+----+------------------+---+--------+------+--------+\n",
      "| id|month| sk|txt|uuid|year|modified_timestamp|  z|schema_v|data_v|trade_dt|\n",
      "+---+-----+---+---+----+----+------------------+---+--------+------+--------+\n",
      "+---+-----+---+---+----+----+------------------+---+--------+------+--------+\n",
      "\n"
     ]
    }
   ],
   "source": [
    "spark.sql(\"select * from dev.db.iceberg_demo_table where id = 4000105\").show()"
   ]
  },
  {
   "cell_type": "code",
   "execution_count": null,
   "id": "cbd490ce-176b-40dc-aebd-0ff844a6093e",
   "metadata": {},
   "outputs": [],
   "source": [
    "spark.sql(\"SELECT * FROM \"dev.db.iceberg_demo_table$iceberg_history\"\")"
   ]
  },
  {
   "cell_type": "code",
   "execution_count": null,
   "id": "ce2860a4-ea9f-448c-ba0b-6d6dfb26ae92",
   "metadata": {},
   "outputs": [],
   "source": [
    "spark.sql(\"SELECT * FROM dev.db.iceberg_demo_table where id = 4000105 FOR SYSTEM_TIME AS OF TIMESTAMP '2020-01-01 10:00:00'\")"
   ]
  },
  {
   "cell_type": "code",
   "execution_count": 22,
   "id": "5102fb95",
   "metadata": {},
   "outputs": [
    {
     "data": {
      "application/vnd.jupyter.widget-view+json": {
       "model_id": "5b7ac69ff3dd481283b8fcd9dda8f7d0",
       "version_major": 2,
       "version_minor": 0
      },
      "text/plain": [
       "VBox()"
      ]
     },
     "metadata": {},
     "output_type": "display_data"
    },
    {
     "data": {
      "application/vnd.jupyter.widget-view+json": {
       "model_id": "",
       "version_major": 2,
       "version_minor": 0
      },
      "text/plain": [
       "FloatProgress(value=0.0, bar_style='info', description='Progress:', layout=Layout(height='25px', width='50%'),…"
      ]
     },
     "metadata": {},
     "output_type": "display_data"
    },
    {
     "name": "stdout",
     "output_type": "stream",
     "text": [
      "res24: org.apache.spark.sql.DataFrame = []\n"
     ]
    }
   ],
   "source": [
    "spark.sql(\"drop table dev.db.iceberg_demo_table_s3_shaping\")"
   ]
  },
  {
   "cell_type": "code",
   "execution_count": 23,
   "id": "334c38f5",
   "metadata": {},
   "outputs": [
    {
     "data": {
      "application/vnd.jupyter.widget-view+json": {
       "model_id": "ef95237ec0cf4c8b842cf61f9d44bc69",
       "version_major": 2,
       "version_minor": 0
      },
      "text/plain": [
       "VBox()"
      ]
     },
     "metadata": {},
     "output_type": "display_data"
    },
    {
     "data": {
      "application/vnd.jupyter.widget-view+json": {
       "model_id": "",
       "version_major": 2,
       "version_minor": 0
      },
      "text/plain": [
       "FloatProgress(value=0.0, bar_style='info', description='Progress:', layout=Layout(height='25px', width='50%'),…"
      ]
     },
     "metadata": {},
     "output_type": "display_data"
    },
    {
     "name": "stdout",
     "output_type": "stream",
     "text": [
      "res25: org.apache.spark.sql.DataFrame = []\n"
     ]
    }
   ],
   "source": [
    "spark.sql(\"\"\"CREATE TABLE dev.db.iceberg_demo_table_s3_shaping (id bigint,\n",
    "                                       month bigint,\n",
    "                                       sk bigint,\n",
    "                                       txt struct<key1:string>,\n",
    "                                       uuid string,\n",
    "                                       year string,\n",
    "                                       modified_timestamp timestamp,\n",
    "                                       z string,\n",
    "                                       schema_v string,\n",
    "                                       data_v string,\n",
    "                                       trade_dt string)\n",
    "USING iceberg\n",
    "OPTIONS ( 'write.object-storage.enabled'=true,\n",
    "          'write.object-storage.path'='s3://vasveena-test-hmswh2/')\n",
    "PARTITIONED BY (z,schema_v,data_v,trade_dt)\n",
    "location  's3://vasveena-test-demo/iceberg/catalog/tables/db/iceberg_demo_table_s3_shaping'\"\"\")"
   ]
  },
  {
   "cell_type": "code",
   "execution_count": 24,
   "id": "a4e62e34",
   "metadata": {},
   "outputs": [
    {
     "data": {
      "application/vnd.jupyter.widget-view+json": {
       "model_id": "f15798c47db24062bb07fbbd3a481b29",
       "version_major": 2,
       "version_minor": 0
      },
      "text/plain": [
       "VBox()"
      ]
     },
     "metadata": {},
     "output_type": "display_data"
    },
    {
     "data": {
      "application/vnd.jupyter.widget-view+json": {
       "model_id": "",
       "version_major": 2,
       "version_minor": 0
      },
      "text/plain": [
       "FloatProgress(value=0.0, bar_style='info', description='Progress:', layout=Layout(height='25px', width='50%'),…"
      ]
     },
     "metadata": {},
     "output_type": "display_data"
    },
    {
     "name": "stdout",
     "output_type": "stream",
     "text": [
      "t1: Long = 14688608248215\n",
      "duration: String = 852.279816876seconds\n"
     ]
    }
   ],
   "source": [
    "val t1 = System.nanoTime\n",
    "input_df4.sortWithinPartitions(\"z\",\"schema_v\",\"data_v\",\"trade_dt\").writeTo(\"dev.db.iceberg_demo_table_s3_shaping\").overwritePartitions()\n",
    "val duration = (System.nanoTime - t1) / 1e9d + \"seconds\""
   ]
  },
  {
   "cell_type": "markdown",
   "id": "96c25c3d",
   "metadata": {},
   "source": [
    "```\n",
    "% aws s3 ls s3://vasveena-test-hmswh2/ | head \n",
    "                           PRE 000142ed/\n",
    "                           PRE 000436c9/\n",
    "                           PRE 00053095/\n",
    "                           PRE 000b2446/\n",
    "                           PRE 000b38ba/\n",
    "                           PRE 00104f22/\n",
    "                           PRE 00165274/\n",
    "                           PRE 001df499/\n",
    "                           PRE 0025e24f/\n",
    "                           PRE 0026511a/\n",
    "\n",
    "\n",
    "% aws s3 ls s3://vasveena-test-hmswh2/000b2446/db/iceberg_demo_table_s3_shaping/z=c/schema_v=v1/data_v=v2/trade_dt=2021-04-02/\n",
    "2022-01-24 16:05:44    4916944 00344-3511-abdee369-8cde-4ae5-9a78-5d723c49e6dd-00013.parquet\n",
    "\n",
    "\n",
    "% aws s3 ls s3://vasveena-test-hmswh2/000142ed/db/iceberg_demo_table_s3_shaping/z=2/schema_v=v1/data_v=v2/trade_dt=2021-04-02/\n",
    "2022-01-24 16:02:53    6558022 00182-3349-938d8d66-f557-4795-84a5-93fdf99301fe-00003.parquet                          \n",
    "                           \n",
    "```"
   ]
  },
  {
   "cell_type": "code",
   "execution_count": 28,
   "id": "c3548a35",
   "metadata": {},
   "outputs": [
    {
     "data": {
      "application/vnd.jupyter.widget-view+json": {
       "model_id": "dba33e9a98bd4ecc8ff4b49ff723b794",
       "version_major": 2,
       "version_minor": 0
      },
      "text/plain": [
       "VBox()"
      ]
     },
     "metadata": {},
     "output_type": "display_data"
    },
    {
     "data": {
      "application/vnd.jupyter.widget-view+json": {
       "model_id": "",
       "version_major": 2,
       "version_minor": 0
      },
      "text/plain": [
       "FloatProgress(value=0.0, bar_style='info', description='Progress:', layout=Layout(height='25px', width='50%'),…"
      ]
     },
     "metadata": {},
     "output_type": "display_data"
    },
    {
     "name": "stdout",
     "output_type": "stream",
     "text": [
      "+-------+-----+-------+---+--------------------+----+-------------------+---+--------+------+----------+\n",
      "|     id|month|     sk|txt|                uuid|year| modified_timestamp|  z|schema_v|data_v|  trade_dt|\n",
      "+-------+-----+-------+---+--------------------+----+-------------------+---+--------+------+----------+\n",
      "|4000012|    8|4000012|{Q}|961f28a6-e8c9-426...|2019|2021-04-02 00:05:02|  0|      v1|    v2|2021-04-02|\n",
      "|4000016|    3|4000016|{U}|8cd50d7c-f23b-4b3...|2019|2021-04-02 00:05:02|  0|      v1|    v2|2021-04-02|\n",
      "|4000028|   11|4000028|{G}|b1768394-e790-40d...|2019|2021-04-02 00:05:02|  0|      v1|    v2|2021-04-02|\n",
      "|4000035|    3|4000035|{N}|d4e09d39-c604-45a...|2019|2021-04-02 00:05:02|  0|      v1|    v2|2021-04-02|\n",
      "|4000037|    3|4000037|{P}|8e3008c9-e455-4fb...|2019|2021-04-02 00:05:02|  0|      v1|    v2|2021-04-02|\n",
      "|4000063|   11|4000063|{P}|97ba4bca-b65b-465...|2019|2021-04-02 00:05:02|  0|      v1|    v2|2021-04-02|\n",
      "|4000070|    2|4000070|{W}|d918732f-6a06-46a...|2019|2021-04-02 00:05:02|  0|      v1|    v2|2021-04-02|\n",
      "|4000081|    1|4000081|{H}|50b70f1c-70f3-4f4...|2019|2021-04-02 00:05:02|  0|      v1|    v2|2021-04-02|\n",
      "|4000101|   12|4000101|{B}|f573950a-17a7-493...|2019|2021-04-02 00:05:02|  0|      v1|    v2|2021-04-02|\n",
      "|4000105|    3|4000105|{F}|e48ad35d-3966-4f9...|2019|2021-04-02 00:05:02|  0|      v1|    v2|2021-04-02|\n",
      "+-------+-----+-------+---+--------------------+----+-------------------+---+--------+------+----------+\n",
      "\n"
     ]
    }
   ],
   "source": [
    "spark.sql(\"select * from dev.db.iceberg_demo_table_s3_shaping limit 10\").show()"
   ]
  },
  {
   "cell_type": "code",
   "execution_count": null,
   "id": "cf7eeaba",
   "metadata": {},
   "outputs": [],
   "source": []
  }
 ],
 "metadata": {
  "kernelspec": {
   "display_name": "Spark",
   "language": "",
   "name": "sparkkernel"
  },
  "language_info": {
   "codemirror_mode": "text/x-scala",
   "mimetype": "text/x-scala",
   "name": "scala",
   "pygments_lexer": "scala"
  }
 },
 "nbformat": 4,
 "nbformat_minor": 5
}
