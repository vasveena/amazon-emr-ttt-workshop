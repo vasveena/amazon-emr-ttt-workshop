{
 "cells": [
  {
   "cell_type": "markdown",
   "id": "2e7cd43a-358c-48a0-89ae-b28f6686dd55",
   "metadata": {
    "execution": {
     "iopub.execute_input": "2022-03-21T05:55:22.630061Z",
     "iopub.status.busy": "2022-03-21T05:55:22.629851Z",
     "iopub.status.idle": "2022-03-21T05:55:22.874242Z",
     "shell.execute_reply": "2022-03-21T05:55:22.873809Z",
     "shell.execute_reply.started": "2022-03-21T05:55:22.630039Z"
    }
   },
   "source": [
    "# Iceberg on EMR Features\n",
    "\n",
    "Configure Spark session to use Iceberg."
   ]
  },
  {
   "cell_type": "code",
   "execution_count": null,
   "id": "6f616e94",
   "metadata": {
    "tags": []
   },
   "outputs": [],
   "source": [
    "%%configure -f\n",
    "{\n",
    "\"conf\":{\n",
    "    \"spark.sql.extensions\":\"org.apache.iceberg.spark.extensions.IcebergSparkSessionExtensions\",\n",
    "    \"spark.sql.catalog.spark_catalog\":\"org.apache.iceberg.spark.SparkSessionCatalog\",\n",
    "    \"spark.sql.catalog.spark_catalog.type\":\"hive\",\n",
    "    \"spark.sql.catalog.dev\":\"org.apache.iceberg.spark.SparkCatalog\",\n",
    "    \"spark.sql.catalog.dev.type\":\"hadoop\",\n",
    "    \"spark.sql.catalog.dev.warehouse\":\"s3://mrworkshop-youraccountID-dayone/iceberg/catalog/tables/\"\n",
    "    }\n",
    "}"
   ]
  },
  {
   "cell_type": "markdown",
   "id": "fd072fb7-788f-47e9-b3a4-ade98ea4be5b",
   "metadata": {
    "execution": {
     "iopub.execute_input": "2022-03-21T05:56:11.419204Z",
     "iopub.status.busy": "2022-03-21T05:56:11.418999Z",
     "iopub.status.idle": "2022-03-21T05:56:11.663328Z",
     "shell.execute_reply": "2022-03-21T05:56:11.662886Z",
     "shell.execute_reply.started": "2022-03-21T05:56:11.419183Z"
    }
   },
   "source": [
    "Read some data "
   ]
  },
  {
   "cell_type": "code",
   "execution_count": null,
   "id": "33fba05e",
   "metadata": {
    "tags": []
   },
   "outputs": [],
   "source": [
    "import org.apache.spark.sql.types._\n",
    "\n",
    "val supplierSchema = StructType(Array(\n",
    "  StructField(\"s_suppkey\", IntegerType, true),\n",
    "  StructField(\"s_name\", StringType, true),\n",
    "  StructField(\"s_address\", StringType, true),\n",
    "  StructField(\"s_nationkey\", IntegerType, true),\n",
    "  StructField(\"s_phone\", StringType, true),\n",
    "  StructField(\"s_acctbal\", DoubleType, true),\n",
    "  StructField(\"s_comment\", StringType, true)\n",
    "  )\n",
    ")\n",
    "\n",
    "val supplierDF = spark.read.schema(supplierSchema).option(\"delimiter\",\"|\").csv(\"s3://redshift-downloads/TPC-H/2.18/3TB/supplier/\")\n",
    "\n",
    "supplierDF.count()\n",
    "\n",
    "supplierDF.show(5)"
   ]
  },
  {
   "cell_type": "code",
   "execution_count": null,
   "id": "8042be22-017c-405a-a53f-23e3e2350bde",
   "metadata": {},
   "outputs": [],
   "source": [
    "%%sql \n",
    "\n",
    "drop table dev.db.iceberg_supplier_table"
   ]
  },
  {
   "cell_type": "markdown",
   "id": "cd8d07e0-cf13-47bb-95d2-b4cde3622cae",
   "metadata": {},
   "source": [
    "### Create Iceberg Table"
   ]
  },
  {
   "cell_type": "code",
   "execution_count": null,
   "id": "d33d7a31",
   "metadata": {
    "tags": []
   },
   "outputs": [],
   "source": [
    "%%sql\n",
    "\n",
    "CREATE TABLE dev.db.iceberg_supplier_table (\n",
    "  `s_suppkey` bigint, \n",
    "  `s_name` string, \n",
    "  `s_address` string, \n",
    "  `s_nationkey` bigint, \n",
    "  `s_phone` string, \n",
    "  `s_acctbal` double, \n",
    "  `s_comment` string)\n",
    "USING iceberg\n",
    "partitioned by (s_nationkey)\n",
    "location  's3://mrworkshop-youraccountID-dayone/iceberg/catalog/tables/db/iceberg_supplier_table'"
   ]
  },
  {
   "cell_type": "markdown",
   "id": "d7a7e6d5-2a05-46aa-8798-84ec6f667449",
   "metadata": {},
   "source": [
    "### Insert Data into Iceberg table"
   ]
  },
  {
   "cell_type": "code",
   "execution_count": null,
   "id": "5dbab250",
   "metadata": {
    "tags": []
   },
   "outputs": [],
   "source": [
    "supplierDF.sortWithinPartitions(\"s_nationkey\").writeTo(\"dev.db.iceberg_supplier_table\").overwritePartitions()"
   ]
  },
  {
   "cell_type": "code",
   "execution_count": null,
   "id": "e9ada7d8",
   "metadata": {
    "tags": []
   },
   "outputs": [],
   "source": [
    "%%sql\n",
    "\n",
    "select * from dev.db.iceberg_supplier_table limit 5"
   ]
  },
  {
   "cell_type": "code",
   "execution_count": null,
   "id": "25bbc778",
   "metadata": {
    "tags": []
   },
   "outputs": [],
   "source": [
    "%%sql \n",
    "\n",
    "select * from dev.db.iceberg_supplier_table where s_nationkey = 6 limit 5"
   ]
  },
  {
   "cell_type": "markdown",
   "id": "033636df-460f-4a5b-b3e7-d00d3225b69b",
   "metadata": {},
   "source": [
    "### Update Records in Iceberg table"
   ]
  },
  {
   "cell_type": "code",
   "execution_count": null,
   "id": "f3002c90",
   "metadata": {
    "tags": []
   },
   "outputs": [],
   "source": [
    "%%sql \n",
    "\n",
    "UPDATE dev.db.iceberg_supplier_table\n",
    "SET s_comment = 'updated'\n",
    "WHERE s_nationkey = 6"
   ]
  },
  {
   "cell_type": "code",
   "execution_count": null,
   "id": "126fd0d6",
   "metadata": {
    "tags": []
   },
   "outputs": [],
   "source": [
    "%%sql \n",
    "\n",
    "-- Notice the change in s_comment column\n",
    "\n",
    "select * from dev.db.iceberg_supplier_table where s_nationkey = 6 limit 5"
   ]
  },
  {
   "cell_type": "code",
   "execution_count": null,
   "id": "932e4738",
   "metadata": {
    "tags": []
   },
   "outputs": [],
   "source": [
    "%%sql \n",
    "\n",
    "select * from dev.db.iceberg_supplier_table where s_nationkey = 8 limit 5"
   ]
  },
  {
   "cell_type": "markdown",
   "id": "dd7c1303-5169-4360-82e3-53f310e558f0",
   "metadata": {},
   "source": [
    "### Delete records from Iceberg table"
   ]
  },
  {
   "cell_type": "code",
   "execution_count": null,
   "id": "4aa71830",
   "metadata": {
    "tags": []
   },
   "outputs": [],
   "source": [
    "%%sql\n",
    "\n",
    "DELETE FROM dev.db.iceberg_supplier_table WHERE s_nationkey = 8"
   ]
  },
  {
   "cell_type": "code",
   "execution_count": null,
   "id": "2a58f96e",
   "metadata": {
    "tags": []
   },
   "outputs": [],
   "source": [
    "%%sql \n",
    "\n",
    "select * from dev.db.iceberg_supplier_table where s_nationkey = 8 limit 5"
   ]
  },
  {
   "cell_type": "markdown",
   "id": "5a0f2ee0-a8f6-40f7-8902-21b3b41f6f38",
   "metadata": {},
   "source": [
    "### Time Travel with Iceberg "
   ]
  },
  {
   "cell_type": "code",
   "execution_count": null,
   "id": "ce2860a4-ea9f-448c-ba0b-6d6dfb26ae92",
   "metadata": {
    "tags": []
   },
   "outputs": [],
   "source": [
    "%%sql\n",
    "\n",
    "SELECT * FROM dev.db.iceberg_supplier_table.snapshots"
   ]
  },
  {
   "cell_type": "markdown",
   "id": "a41ee1e9-2f0c-4489-9ace-a1a15fbefd9a",
   "metadata": {},
   "source": [
    "Time travel to the first snapshot\n",
    "\n",
    "**REPLACE** snapshot ID from the above result (first snapshot_id)"
   ]
  },
  {
   "cell_type": "code",
   "execution_count": null,
   "id": "4631e284-08e2-40fd-a732-bbfd7ecb9051",
   "metadata": {
    "tags": []
   },
   "outputs": [],
   "source": [
    "// \n",
    "val prevSupplierDF = (spark.read\n",
    "    .option(\"snapshot-id\", \"7227467235143292131\")\n",
    "    .format(\"iceberg\")\n",
    "    .load(\"s3://mrworkshop-youraccountID-dayone/iceberg/catalog/tables/db/iceberg_supplier_table\"))\n",
    "\n",
    "prevSupplierDF.registerTempTable(\"iceberg_supplier_table_previous\")"
   ]
  },
  {
   "cell_type": "code",
   "execution_count": null,
   "id": "1668a9a2-672d-44e2-9c49-74fe21e54e88",
   "metadata": {
    "tags": []
   },
   "outputs": [],
   "source": [
    "%%sql \n",
    "\n",
    "-- This will display records we deleted \n",
    "\n",
    "select * from iceberg_supplier_table_previous where s_nationkey = 8 limit 5"
   ]
  },
  {
   "cell_type": "code",
   "execution_count": null,
   "id": "8a479dd8-0886-4c6e-8b96-0e49bc41c4b9",
   "metadata": {
    "tags": []
   },
   "outputs": [],
   "source": [
    "%%sql \n",
    "\n",
    "-- This will display the records prior to UPDATE query on s_comment column\n",
    "\n",
    "select * from iceberg_supplier_table_previous where s_nationkey = 6 limit 5"
   ]
  },
  {
   "cell_type": "markdown",
   "id": "fd2716b0-5773-4e52-a9fe-eb2a0ba5ab81",
   "metadata": {},
   "source": [
    "### Incremental Queries with Iceberg"
   ]
  },
  {
   "cell_type": "code",
   "execution_count": null,
   "id": "480d6cd0-9c81-4d79-ba92-9b6da4754758",
   "metadata": {},
   "outputs": [],
   "source": [
    "%%sql\n",
    "\n",
    "SELECT * FROM dev.db.iceberg_supplier_table.snapshots"
   ]
  },
  {
   "cell_type": "markdown",
   "id": "a51d6511-176c-4e6f-8746-ff4d97b0b021",
   "metadata": {},
   "source": [
    "Get the data added after start-snapshot-id until end-snapshot-id\n",
    "\n",
    "**REPLACE** 7227467235143292131 (start-snapshot-id) and 1006091418634166352 (end-snapshot-id) with the above result (first and second snapshot_ids)"
   ]
  },
  {
   "cell_type": "code",
   "execution_count": null,
   "id": "6992dc26-5c7f-433d-88d3-261b3a169ec9",
   "metadata": {},
   "outputs": [],
   "source": [
    "val incrSupplierDF = (spark.read\n",
    "    .option(\"start-snapshot-id\", \"7227467235143292131\")\n",
    "    .option(\"end-snapshot-id\", \"1006091418634166352\")\n",
    "    .format(\"iceberg\")\n",
    "    .load(\"s3://mrworkshop-youraccountID-dayone/iceberg/catalog/tables/db/iceberg_supplier_table\"))\n",
    "\n",
    "incrSupplierDF.registerTempTable(\"iceberg_supplier_table_incremental\")"
   ]
  },
  {
   "cell_type": "code",
   "execution_count": null,
   "id": "62742ed5-10c4-4399-8f7c-3981958e95ce",
   "metadata": {
    "tags": []
   },
   "outputs": [],
   "source": [
    "%%sql \n",
    "\n",
    "-- Deleted records are displayed using incremental view \n",
    "\n",
    "select * from iceberg_supplier_table_previous where s_nationkey = 8 limit 5"
   ]
  },
  {
   "cell_type": "markdown",
   "id": "d7000bac-0cb1-434c-af75-4afa7b2a6c5c",
   "metadata": {},
   "source": [
    "### Inspecting Iceberg tables\n",
    "\n",
    "Iceberg provides several user friendly options to descriptively inspect your table metadata"
   ]
  },
  {
   "cell_type": "code",
   "execution_count": null,
   "id": "d10551dc-f47e-4ab4-9e2c-d47e3d894cd1",
   "metadata": {
    "tags": []
   },
   "outputs": [],
   "source": [
    "%%sql\n",
    "\n",
    "-- Shows table history \n",
    "\n",
    "SELECT * FROM dev.db.iceberg_supplier_table.history"
   ]
  },
  {
   "cell_type": "code",
   "execution_count": null,
   "id": "bc630b73-da13-4195-bf49-6220471c170e",
   "metadata": {
    "tags": []
   },
   "outputs": [],
   "source": [
    "%%sql \n",
    "\n",
    "-- Shows table's data files \n",
    "\n",
    "SELECT * FROM dev.db.iceberg_supplier_table.files limit 2"
   ]
  },
  {
   "cell_type": "code",
   "execution_count": null,
   "id": "c72483f4-00b3-495c-8090-34503b7855e4",
   "metadata": {
    "tags": []
   },
   "outputs": [],
   "source": [
    "%%sql\n",
    "\n",
    "-- Shows table manifests\n",
    "\n",
    "SELECT * FROM dev.db.iceberg_supplier_table.manifests limit 2"
   ]
  },
  {
   "cell_type": "code",
   "execution_count": null,
   "id": "638aa50c-3880-4209-a971-213c1cda05ff",
   "metadata": {},
   "outputs": [],
   "source": [
    "%%sql \n",
    "\n",
    "-- You can even join two system tables. For example, this query will show table history, with the application ID that wrote each snapshot:\n",
    "\n",
    "select\n",
    "    h.made_current_at,\n",
    "    s.operation,\n",
    "    h.snapshot_id,\n",
    "    h.is_current_ancestor,\n",
    "    s.summary['spark.app.id']\n",
    "from dev.db.iceberg_supplier_table.history h\n",
    "join dev.db.iceberg_supplier_table.snapshots s\n",
    "  on h.snapshot_id = s.snapshot_id\n",
    "order by made_current_at"
   ]
  },
  {
   "cell_type": "markdown",
   "id": "400b1b44-4e58-4839-97cf-1351e0edaf08",
   "metadata": {},
   "source": [
    "### Schema evolution \n",
    "\n",
    "Iceberg allows for safe schema evolution and is a great option for long-term maintenance of large tables with many number of partitions "
   ]
  },
  {
   "cell_type": "code",
   "execution_count": null,
   "id": "d8588909-22fc-4194-9423-b4f9d81241ab",
   "metadata": {},
   "outputs": [],
   "source": [
    "spark.table(\"dev.db.iceberg_supplier_table\").printSchema()"
   ]
  },
  {
   "cell_type": "code",
   "execution_count": null,
   "id": "9f0c998c-f1d1-47fe-a85a-3655bfbd5f56",
   "metadata": {
    "tags": []
   },
   "outputs": [],
   "source": [
    "%%sql \n",
    "\n",
    "-- Iceberg allows any field to be renamed\n",
    "\n",
    "ALTER TABLE dev.db.iceberg_supplier_table RENAME COLUMN s_comment TO comment"
   ]
  },
  {
   "cell_type": "code",
   "execution_count": null,
   "id": "4c87628d-6fa5-4762-85c7-ce18dc8d362b",
   "metadata": {},
   "outputs": [],
   "source": [
    "%%sql\n",
    "\n",
    "--Drop columns\n",
    "\n",
    "ALTER TABLE dev.db.iceberg_supplier_table DROP COLUMN s_address"
   ]
  },
  {
   "cell_type": "code",
   "execution_count": null,
   "id": "95a99b30-bd7a-4ff2-a580-60a945159bfd",
   "metadata": {
    "tags": []
   },
   "outputs": [],
   "source": [
    "%%sql\n",
    "\n",
    "ALTER TABLE dev.db.iceberg_supplier_table\n",
    "ADD COLUMNS (\n",
    "    new_column string\n",
    "  )"
   ]
  },
  {
   "cell_type": "code",
   "execution_count": null,
   "id": "3225ba4e-d9b7-4074-bfdc-7ba0d13d7dbf",
   "metadata": {
    "tags": []
   },
   "outputs": [],
   "source": [
    "spark.table(\"dev.db.iceberg_supplier_table\").printSchema()"
   ]
  },
  {
   "cell_type": "markdown",
   "id": "8e5224e6-cc11-4e85-8118-73155e070d77",
   "metadata": {},
   "source": [
    "### Advanced: S3 Traffic Shaping with Iceberg\n",
    "\n",
    "Those of you who run massive distributed workloads against S3 data lake may have encountered S3 bottlenecks such as S3 503 slow down errors. Iceberg provides a feature called [Object Store File Layout](https://iceberg.apache.org/docs/latest/aws/#object-store-file-layout) which is useful for traffic scaling to mitigate S3 bottlenecks. "
   ]
  },
  {
   "cell_type": "code",
   "execution_count": null,
   "id": "334c38f5",
   "metadata": {},
   "outputs": [],
   "source": [
    "%%sql\n",
    "\n",
    "CREATE TABLE dev.db.iceberg_supplier_table_s3_shaping (\n",
    "  `s_suppkey` bigint, \n",
    "  `s_name` string, \n",
    "  `s_address` string, \n",
    "  `s_nationkey` bigint, \n",
    "  `s_phone` string, \n",
    "  `s_acctbal` double, \n",
    "  `s_comment` string)\n",
    "USING iceberg\n",
    "OPTIONS ( 'write.object-storage.enabled'=true,\n",
    "          'write.object-storage.path'='s3://mrworkshop-youraccountID-dayone-iceberg/')\n",
    "partitioned by (s_nationkey)\n",
    "location  's3://mrworkshop-youraccountID-dayone/iceberg/catalog/tables/db/iceberg_supplier_table_s3_shaping'"
   ]
  },
  {
   "cell_type": "code",
   "execution_count": null,
   "id": "a4e62e34",
   "metadata": {
    "tags": []
   },
   "outputs": [],
   "source": [
    "supplierDF.sortWithinPartitions(\"s_nationkey\").writeTo(\"dev.db.iceberg_supplier_table_s3_shaping\").overwritePartitions()"
   ]
  },
  {
   "cell_type": "markdown",
   "id": "96c25c3d",
   "metadata": {},
   "source": [
    "List the object storage S3 path.\n",
    "\n",
    "```\n",
    "$ aws s3 ls s3://mrworkshop-youraccountID-dayone-iceberg/ | head\n",
    "                           PRE 0009e927/\n",
    "                           PRE 002341d4/\n",
    "                           PRE 0034e34f/\n",
    "                           PRE 0039c84a/\n",
    "                           PRE 004a1b12/\n",
    "                           PRE 0058a246/\n",
    "                           PRE 0062d53a/\n",
    "                           PRE 0081a04b/\n",
    "                           PRE 008dc473/\n",
    "                           PRE 00912343/\n",
    "\n",
    "```\n",
    "\n",
    "**REPLACE** prefix values based on the above output\n",
    "\n",
    "```\n",
    "\n",
    "$ aws s3 ls s3://mrworkshop-youraccountID-dayone-iceberg/0009e927 --recursive\n",
    "2022-03-21 06:40:07     933324 0009e927/db/iceberg_supplier_table_s3_shaping/s_nationkey=8/00029-1303-cfffcaef-a308-4f0e-b77d-e31212afa0fb-00009.parquet\n",
    "\n",
    "\n",
    "$ aws s3 ls s3://mrworkshop-youraccountID-dayone-iceberg/002341d4/ --recursive\n",
    "2022-03-21 06:40:24     966751 002341d4/db/iceberg_supplier_table_s3_shaping/s_nationkey=18/00059-1333-17a7dcc5-7c4b-4e31-80fe-a08044b9844e-00019.parquet                        \n",
    "                           \n",
    "```"
   ]
  },
  {
   "cell_type": "code",
   "execution_count": null,
   "id": "c3548a35",
   "metadata": {},
   "outputs": [],
   "source": [
    "%%sql \n",
    "\n",
    "select * from dev.db.iceberg_supplier_table_s3_shaping limit 10"
   ]
  },
  {
   "cell_type": "code",
   "execution_count": null,
   "id": "cf7eeaba",
   "metadata": {},
   "outputs": [],
   "source": [
    "%%sql \n",
    "\n",
    "select * from dev.db.iceberg_supplier_table_s3_shaping.history limit 10"
   ]
  },
  {
   "cell_type": "code",
   "execution_count": null,
   "id": "8108d937-5da0-4930-aca5-5994c88f1dbc",
   "metadata": {},
   "outputs": [],
   "source": []
  }
 ],
 "metadata": {
  "kernelspec": {
   "display_name": "Spark",
   "language": "",
   "name": "sparkkernel"
  },
  "language_info": {
   "codemirror_mode": "text/x-scala",
   "mimetype": "text/x-scala",
   "name": "scala",
   "pygments_lexer": "scala"
  }
 },
 "nbformat": 4,
 "nbformat_minor": 5
}
