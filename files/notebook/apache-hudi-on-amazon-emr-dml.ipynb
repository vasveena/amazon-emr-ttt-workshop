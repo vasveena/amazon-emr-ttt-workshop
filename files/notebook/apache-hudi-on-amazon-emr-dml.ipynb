{
 "cells": [
  {
   "cell_type": "markdown",
   "id": "f5f4b77c-7202-44d5-810c-8537ab34acf8",
   "metadata": {
    "execution": {
     "iopub.execute_input": "2022-03-16T14:34:51.531576Z",
     "iopub.status.busy": "2022-03-16T14:34:51.531349Z",
     "iopub.status.idle": "2022-03-16T14:34:57.069033Z"
    },
    "tags": []
   },
   "source": [
    "# Hudi Demo with DML"
   ]
  },
  {
   "cell_type": "code",
   "execution_count": null,
   "id": "a0c55f80-3ebd-41f1-b11d-c91afa1bd1e6",
   "metadata": {
    "tags": []
   },
   "outputs": [],
   "source": [
    "%%configure -f\n",
    "{\n",
    "    \"conf\":  { \n",
    "             \"spark.jars\":\"hdfs:///user/hadoop/aws-java-sdk-bundle-1.12.31.jar,hdfs:///user/hadoop/httpcore-4.4.11.jar,hdfs:///user/hadoop/httpclient-4.5.9.jar,hdfs:////user/hadoop/hudi-spark-bundle.jar,hdfs:///user/hadoop/spark-avro.jar\",\n",
    "             \"spark.sql.hive.convertMetastoreParquet\":\"false\", \n",
    "             \"spark.serializer\":\"org.apache.spark.serializer.KryoSerializer\",\n",
    "             \"spark.sql.extensions\":\"org.apache.spark.sql.hudi.HoodieSparkSessionExtension\"\n",
    "           } \n",
    "}"
   ]
  },
  {
   "cell_type": "markdown",
   "id": "e0119e70-8b0c-4551-ba64-2ed7e67cc790",
   "metadata": {},
   "source": [
    "### Create Tables"
   ]
  },
  {
   "cell_type": "code",
   "execution_count": null,
   "id": "c716c7af-3f40-46c2-b427-2464f45be52f",
   "metadata": {
    "tags": []
   },
   "outputs": [],
   "source": [
    "%%sql \n",
    "\n",
    "/****************************\n",
    "Create a HUDI table having schema same as of Amazon customer reviews table containing selected columns \n",
    "*****************************/\n",
    "\n",
    "create table if not exists amazon_customer_review_hudi\n",
    "    ( marketplace string, \n",
    "      review_id string, \n",
    "      customer_id string,\n",
    "      product_title string,\n",
    "      star_rating int,\n",
    "      timestamp long ,\n",
    "      review_date date,\n",
    "      year string,\n",
    "      month string ,\n",
    "      day string\n",
    "      )\n",
    "      using hudi\n",
    "      location 's3://mrworkshop-youraccountID-dayone/my-hudi-dataset/'\n",
    "      options ( \n",
    "      type = 'cow',  \n",
    "      primaryKey = 'review_id', \n",
    "      preCombineField = 'timestamp',\n",
    "      hoodie.datasource.write.hive_style_partitioning = 'true'\n",
    "      )\n",
    "      partitioned by (year,month,day);"
   ]
  },
  {
   "cell_type": "code",
   "execution_count": null,
   "id": "07d22960-5629-4278-a543-75c05b5dd87c",
   "metadata": {
    "tags": []
   },
   "outputs": [],
   "source": [
    "%%sql \n",
    "\n",
    "/****************************\n",
    "Create amazon_customer_review_parquet_merge_source  to be used as source for merging into amazon_customer_review_hudi.\n",
    "The table contains deleteRecord column to track if *deletion* of record is needed\n",
    "*****************************/\n",
    "\n",
    "create table if not exists amazon_customer_review_parquet_merge_source \n",
    "       (\n",
    "        marketplace string, \n",
    "        review_id string, \n",
    "        customer_id string,\n",
    "        product_title string,\n",
    "        star_rating int,\n",
    "        review_date date,\n",
    "        deleteRecord string\n",
    "       )\n",
    "       STORED AS PARQUET\n",
    "       LOCATION 's3://mrworkshop-youraccountID-dayone/toBeMergeData/'"
   ]
  },
  {
   "cell_type": "markdown",
   "id": "76361717-aef7-47ee-8179-5eee8b6af586",
   "metadata": {
    "execution": {
     "iopub.execute_input": "2022-03-21T03:50:33.397127Z",
     "iopub.status.busy": "2022-03-21T03:50:33.396921Z",
     "iopub.status.idle": "2022-03-21T03:50:33.645131Z",
     "shell.execute_reply": "2022-03-21T03:50:33.644671Z",
     "shell.execute_reply.started": "2022-03-21T03:50:33.397105Z"
    }
   },
   "source": [
    "### Insert Data into Hudi tables"
   ]
  },
  {
   "cell_type": "code",
   "execution_count": null,
   "id": "e57f7544-93c6-4090-8655-8a784e7fea22",
   "metadata": {
    "tags": []
   },
   "outputs": [],
   "source": [
    "%%sql \n",
    "\n",
    "/****************************\n",
    " Insert a record into amazon_customer_review_parquet_merge_source for *deletion* \n",
    "*****************************/\n",
    "\n",
    "-- The record will be deleted from amazon_customer_review_hudi after merge as deleteRecord  is set to yes\n",
    "\n",
    "insert into amazon_customer_review_parquet_merge_source\n",
    "    select\n",
    "    'italy',\n",
    "    '11',\n",
    "    '1111',\n",
    "    'table',\n",
    "     5,\n",
    "    TO_DATE(CAST(UNIX_TIMESTAMP('2015/05/02', 'yyyy/MM/dd') AS TIMESTAMP)) as  review_date,\n",
    "    'yes'"
   ]
  },
  {
   "cell_type": "code",
   "execution_count": null,
   "id": "bfa5c9fb-0926-46e2-97fd-9f8e762e6eb4",
   "metadata": {
    "tags": []
   },
   "outputs": [],
   "source": [
    "%%sql\n",
    "/****************************\n",
    " Insert a record into amazon_customer_review_parquet_merge_source used for *update*\n",
    "*****************************/\n",
    "\n",
    "-- The record will be updated from amazon_customer_review_hudi with new Star rating and product_title after merge\n",
    "\n",
    "insert into amazon_customer_review_parquet_merge_source\n",
    "    select\n",
    "    'spain',\n",
    "    '22',\n",
    "    '2222',\n",
    "    'Relaxing chair',\n",
    "     4,\n",
    "    TO_DATE(CAST(UNIX_TIMESTAMP('2015/05/02', 'yyyy/MM/dd') AS TIMESTAMP)) as  review_date,\n",
    "    'no' "
   ]
  },
  {
   "cell_type": "code",
   "execution_count": null,
   "id": "55535052-5932-4694-bb53-ed10d469559a",
   "metadata": {
    "tags": []
   },
   "outputs": [],
   "source": [
    "%%sql\n",
    "/****************************\n",
    " Insert a record into amazon_customer_review_parquet_merge_source for *insert* \n",
    "*****************************/\n",
    "\n",
    "-- The record will be inserted into amazon_customer_review_hudi after merge \n",
    "\n",
    "insert into amazon_customer_review_parquet_merge_source\n",
    "    select\n",
    "    'uk',\n",
    "    '33',\n",
    "    '3333',\n",
    "    'hanger',\n",
    "     3,\n",
    "    TO_DATE(CAST(UNIX_TIMESTAMP('2015/05/02', 'yyyy/MM/dd') AS TIMESTAMP)) as  review_date,\n",
    "    'no' "
   ]
  },
  {
   "cell_type": "code",
   "execution_count": null,
   "id": "f8fe739b-647c-4c62-b1c3-9c504d373450",
   "metadata": {
    "tags": []
   },
   "outputs": [],
   "source": [
    "%%sql\n",
    "\n",
    "select * from amazon_customer_review_parquet_merge_source"
   ]
  },
  {
   "cell_type": "markdown",
   "id": "d949b91f-6bad-4572-9975-30bfc02351a5",
   "metadata": {
    "execution": {
     "iopub.execute_input": "2022-03-21T03:52:54.912714Z",
     "iopub.status.busy": "2022-03-21T03:52:54.912505Z",
     "iopub.status.idle": "2022-03-21T03:52:55.161687Z",
     "shell.execute_reply": "2022-03-21T03:52:55.161222Z",
     "shell.execute_reply.started": "2022-03-21T03:52:54.912693Z"
    },
    "tags": []
   },
   "source": [
    "Let's insert record into our Hudi table"
   ]
  },
  {
   "cell_type": "code",
   "execution_count": null,
   "id": "be434c22-3f26-4a5c-a64d-852a8eebbd7b",
   "metadata": {
    "tags": []
   },
   "outputs": [],
   "source": [
    "%%sql\n",
    "\n",
    "/****************************\n",
    " Insert a record into amazon_customer_review_hudi table for *deletion* after merge \n",
    "*****************************/\n",
    "\n",
    "-- Spark SQL date time functions https://spark.apache.org/docs/latest/api/sql/index.html#date_add\n",
    "\n",
    "insert into amazon_customer_review_hudi \n",
    "    select \n",
    "    'italy',\n",
    "    '11',\n",
    "    '1111',\n",
    "    'table',\n",
    "     5,\n",
    "    unix_timestamp(current_timestamp()) as timestamp,\n",
    "    TO_DATE(CAST(UNIX_TIMESTAMP('2015/05/02', 'yyyy/MM/dd') AS TIMESTAMP)) as  review_date,\n",
    "    date_format(date '2015-05-02', \"yyyy\") as year, \n",
    "    date_format(date '2015-05-02', \"MM\") as month,\n",
    "    date_format(date '2015-05-02', \"dd\") as day  "
   ]
  },
  {
   "cell_type": "code",
   "execution_count": null,
   "id": "dab865c6-45db-451f-ae21-273b306d69ba",
   "metadata": {
    "tags": []
   },
   "outputs": [],
   "source": [
    "%%sql\n",
    "/****************************\n",
    " Insert a record into amazon_customer_review_hudi table for *update* after merge \n",
    "*****************************/\n",
    "\n",
    "insert into  amazon_customer_review_hudi\n",
    "    select \n",
    "    'spain',\n",
    "    '22',\n",
    "    '2222',\n",
    "    'chair ',\n",
    "     5,\n",
    "    unix_timestamp(current_timestamp()) as timestamp,\n",
    "    TO_DATE(CAST(UNIX_TIMESTAMP('2015/05/02', 'yyyy/MM/dd') AS TIMESTAMP)) as  review_date,\n",
    "    date_format(date '2015-05-02', \"yyyy\") as year, \n",
    "    date_format(date '2015-05-02', \"MM\") as month,\n",
    "    date_format(date '2015-05-02', \"dd\") as day  "
   ]
  },
  {
   "cell_type": "code",
   "execution_count": null,
   "id": "b803f7fc-fb35-42c4-a31e-f070a947f62e",
   "metadata": {},
   "outputs": [],
   "source": [
    "%%sql \n",
    "\n",
    "select * from amazon_customer_review_hudi"
   ]
  },
  {
   "cell_type": "markdown",
   "id": "e7c5b352-bb8a-4dd3-af95-be3bb447bfad",
   "metadata": {
    "execution": {
     "iopub.execute_input": "2022-03-21T03:55:37.769070Z",
     "iopub.status.busy": "2022-03-21T03:55:37.768864Z",
     "iopub.status.idle": "2022-03-21T03:55:38.016072Z",
     "shell.execute_reply": "2022-03-21T03:55:38.015470Z",
     "shell.execute_reply.started": "2022-03-21T03:55:37.769049Z"
    }
   },
   "source": [
    "### Merge into \n",
    "\n",
    "Considerations:\n",
    "\n",
    "* The merge condition is possible only on primary keys \n",
    "\n",
    "```\n",
    "on target.review_id = source.review_id \n",
    "```\n",
    "\n",
    "* Support for partial updates is supported for COW table but not supported for MOR tables. \n",
    "* Target table's fields *cannot* be the right-value of the update expression for Merge-On-Read table. The  update will result in an error as target columns are present on right handside of the expression\n",
    "\n",
    "```\n",
    "update set target.star_rating =  target.star_rating +1 \n",
    "```\n",
    "\n"
   ]
  },
  {
   "cell_type": "code",
   "execution_count": null,
   "id": "6d6d09e5-a0df-4d80-b2db-a340a2ea1452",
   "metadata": {
    "tags": []
   },
   "outputs": [],
   "source": [
    "%%sql \n",
    "\n",
    "/*************************************\n",
    "MergeInto : Merge Source Into Traget \n",
    "**************************************/\n",
    "\n",
    "-- Source amazon_customer_review_parquet_merge_source \n",
    "-- Taget amazon_customer_review_hudi\n",
    "\n",
    "merge into amazon_customer_review_hudi as target\n",
    "using ( \n",
    "        select\n",
    "        marketplace, \n",
    "        review_id, \n",
    "        customer_id,\n",
    "        product_title,\n",
    "        star_rating,\n",
    "        review_date,\n",
    "        deleteRecord,\n",
    "        date_format(review_date, \"yyyy\") as year,\n",
    "        date_format(review_date, \"MM\") as month,\n",
    "        date_format(review_date, \"dd\") as day\n",
    "        from amazon_customer_review_parquet_merge_source ) source\n",
    "on target.review_id = source.review_id \n",
    "when matched and deleteRecord != 'yes' then \n",
    "\n",
    "update set target.timestamp = unix_timestamp(current_timestamp()),  \n",
    "target.star_rating = source.star_rating, \n",
    "target.product_title = source.product_title\n",
    "\n",
    "when matched and deleteRecord = 'yes' then delete\n",
    "\n",
    "when not matched then insert \n",
    "      ( target.marketplace, \n",
    "        target.review_id, \n",
    "        target.customer_id,\n",
    "        target.product_title,\n",
    "        target.star_rating,\n",
    "        target.timestamp ,\n",
    "        target.review_date,\n",
    "        target.year ,\n",
    "        target.month  ,\n",
    "        target.day\n",
    "      ) \n",
    "      values\n",
    "      (\n",
    "        source.marketplace,\n",
    "        source.review_id, \n",
    "        source.customer_id,\n",
    "        source.product_title,\n",
    "        source.star_rating,\n",
    "        unix_timestamp(current_timestamp()),\n",
    "        source.review_date,\n",
    "        source.year , \n",
    "        source.month ,\n",
    "        source.day \n",
    "       )"
   ]
  },
  {
   "cell_type": "code",
   "execution_count": null,
   "id": "2a129081-8913-4893-92e4-9345808a4d54",
   "metadata": {},
   "outputs": [],
   "source": [
    "%%sql \n",
    "\n",
    "select * from amazon_customer_review_hudi"
   ]
  },
  {
   "cell_type": "markdown",
   "id": "ba41a915-024b-42e0-81e5-64997efba0cb",
   "metadata": {},
   "source": [
    "### Schema Evolution\n",
    "\n",
    "Hudi supports common schema evolution (https://hudi.apache.org/docs/0.9.0/schema_evolution) scenarios, such as adding a nullable field or promoting a datatype of a field, out-of-the-box. Lets add a new column *ssid*  (type int ) to amazon_customer_review_hudi  table and promote  the type from int to long"
   ]
  },
  {
   "cell_type": "code",
   "execution_count": null,
   "id": "a8c2cee4-cd48-46dd-8088-4013fd84abb4",
   "metadata": {
    "tags": []
   },
   "outputs": [],
   "source": [
    "%%sql\n",
    "\n",
    "/*************************************\n",
    "Adding a new column name ssid of type int to amazon_customer_review_hudi table\n",
    "**************************************/\n",
    "\n",
    "ALTER TABLE amazon_customer_review_hudi ADD COLUMNS (ssid int)"
   ]
  },
  {
   "cell_type": "code",
   "execution_count": null,
   "id": "b8e1af14-b53e-4645-80ec-0862deb26013",
   "metadata": {},
   "outputs": [],
   "source": [
    "%%sql \n",
    "\n",
    "select * from amazon_customer_review_hudi"
   ]
  },
  {
   "cell_type": "code",
   "execution_count": null,
   "id": "415e59ab-7191-45dc-88c7-d1b7715ceb8a",
   "metadata": {
    "tags": []
   },
   "outputs": [],
   "source": [
    "%%sql\n",
    "\n",
    "/*************************************\n",
    "Updating ssid type from int to long in amazon_customer_review_hudi table\n",
    "**************************************/   \n",
    "  \n",
    "ALTER TABLE amazon_customer_review_hudi CHANGE COLUMN ssid ssid long;"
   ]
  },
  {
   "cell_type": "code",
   "execution_count": null,
   "id": "c42e46f4-0388-4589-ae2b-b0851adcce23",
   "metadata": {
    "tags": []
   },
   "outputs": [],
   "source": [
    "%%sql \n",
    "\n",
    "select * from amazon_customer_review_hudi"
   ]
  },
  {
   "cell_type": "code",
   "execution_count": null,
   "id": "1427ed4f-6380-48e9-89cd-aea1c6299a25",
   "metadata": {},
   "outputs": [],
   "source": []
  }
 ],
 "metadata": {
  "kernelspec": {
   "display_name": "Spark",
   "language": "",
   "name": "sparkkernel"
  },
  "language_info": {
   "codemirror_mode": "text/x-scala",
   "mimetype": "text/x-scala",
   "name": "scala",
   "pygments_lexer": "scala"
  }
 },
 "nbformat": 4,
 "nbformat_minor": 5
}
