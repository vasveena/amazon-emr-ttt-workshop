{
 "cells": [
  {
   "cell_type": "code",
   "execution_count": null,
   "metadata": {
    "tags": []
   },
   "outputs": [],
   "source": [
    "%%info"
   ]
  },
  {
   "cell_type": "code",
   "execution_count": null,
   "metadata": {
    "tags": []
   },
   "outputs": [],
   "source": [
    "sc.list_packages()"
   ]
  },
  {
   "cell_type": "code",
   "execution_count": null,
   "metadata": {
    "tags": []
   },
   "outputs": [],
   "source": [
    "df = spark.read.parquet('s3://amazon-reviews-pds/parquet/product_category=Books/*.parquet')"
   ]
  },
  {
   "cell_type": "code",
   "execution_count": null,
   "metadata": {
    "tags": []
   },
   "outputs": [],
   "source": [
    "# Total columns\n",
    "print(f'Total Columns: {len(df.dtypes)}')\n",
    "df.printSchema()"
   ]
  },
  {
   "cell_type": "code",
   "execution_count": null,
   "metadata": {
    "tags": []
   },
   "outputs": [],
   "source": [
    "# Total row\n",
    "print(f'Total Rows: {df.count():,}')"
   ]
  },
  {
   "cell_type": "code",
   "execution_count": null,
   "metadata": {
    "tags": []
   },
   "outputs": [],
   "source": [
    "# Total number of books\n",
    "num_of_books = df.select('product_id').distinct().count()\n",
    "print(f'Number of Books: {num_of_books:,}')"
   ]
  },
  {
   "cell_type": "code",
   "execution_count": null,
   "metadata": {
    "tags": []
   },
   "outputs": [],
   "source": [
    "sc.install_pypi_package(\"pandas==1.0.1\") #Install pandas version 1.0.5\n",
    "sc.install_pypi_package(\"numpy==1.20.2\") #Intall numpy version 1.19.5\n",
    "sc.install_pypi_package(\"matplotlib==3.2.0\",\"https://pypi.org/simple\") #Install matplotlib from given PyPI repository"
   ]
  },
  {
   "cell_type": "code",
   "execution_count": null,
   "metadata": {
    "tags": []
   },
   "outputs": [],
   "source": [
    "sc.list_packages()"
   ]
  },
  {
   "cell_type": "code",
   "execution_count": null,
   "metadata": {
    "tags": []
   },
   "outputs": [],
   "source": [
    "# Number of reviews across years\n",
    "num_of_reviews_by_year = df.groupBy('year').count().orderBy('year').toPandas()\n",
    "\n",
    "import matplotlib.pyplot as plt\n",
    "plt.clf()\n",
    "num_of_reviews_by_year.plot(kind='area', x='year',y='count', rot=70, color='#bc5090', legend=None, figsize=(8,6))\n",
    "plt.xticks(num_of_reviews_by_year.year)\n",
    "plt.xlim(1995, 2015)\n",
    "plt.title('Number of reviews across years')\n",
    "plt.xlabel('Year')\n",
    "plt.ylabel('Number of Reviews')"
   ]
  },
  {
   "cell_type": "code",
   "execution_count": null,
   "metadata": {
    "tags": []
   },
   "outputs": [],
   "source": [
    "%matplot plt"
   ]
  },
  {
   "cell_type": "code",
   "execution_count": null,
   "metadata": {
    "tags": []
   },
   "outputs": [],
   "source": [
    "# Distribution of overall star ratings\n",
    "product_ratings_dist = df.groupBy('star_rating').count().orderBy('count').toPandas()\n",
    "\n",
    "plt.clf()\n",
    "labels = [f\"Star Rating: {rating}\" for rating in product_ratings_dist['star_rating']]\n",
    "reviews = [num_reviews for num_reviews in product_ratings_dist['count']]\n",
    "colors = ['#00876c', '#89c079', '#fff392', '#fc9e5a', '#de425b']\n",
    "fig, ax = plt.subplots(figsize=(8,5))\n",
    "w,a,b = ax.pie(reviews, autopct='%1.1f%%', colors=colors)\n",
    "plt.title('Distribution of star ratings for books')\n",
    "ax.legend(w, labels, title=\"Star Ratings\", loc=\"center left\", bbox_to_anchor=(1, 0, 0.5, 1))"
   ]
  },
  {
   "cell_type": "code",
   "execution_count": null,
   "metadata": {
    "tags": []
   },
   "outputs": [],
   "source": [
    "%matplot plt"
   ]
  },
  {
   "cell_type": "code",
   "execution_count": null,
   "metadata": {
    "tags": []
   },
   "outputs": [],
   "source": [
    "sc.uninstall_package('pandas')"
   ]
  },
  {
   "cell_type": "code",
   "execution_count": null,
   "metadata": {
    "tags": []
   },
   "outputs": [],
   "source": [
    "sc.list_packages()"
   ]
  },
  {
   "cell_type": "code",
   "execution_count": null,
   "metadata": {},
   "outputs": [],
   "source": []
  }
 ],
 "metadata": {
  "kernelspec": {
   "display_name": "PySpark",
   "language": "",
   "name": "pysparkkernel"
  },
  "language_info": {
   "codemirror_mode": {
    "name": "python",
    "version": 3
   },
   "mimetype": "text/x-python",
   "name": "pyspark",
   "pygments_lexer": "python3"
  }
 },
 "nbformat": 4,
 "nbformat_minor": 4
}
