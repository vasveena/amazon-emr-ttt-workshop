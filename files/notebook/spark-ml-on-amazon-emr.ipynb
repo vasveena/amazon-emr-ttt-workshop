{
 "cells": [
  {
   "cell_type": "code",
   "execution_count": 1,
   "id": "a9ac97ce-5f07-4ec9-a719-6adfaa2dab25",
   "metadata": {
    "execution": {
     "iopub.execute_input": "2022-04-05T16:08:47.258422Z",
     "iopub.status.busy": "2022-04-05T16:08:47.258163Z",
     "iopub.status.idle": "2022-04-05T16:08:47.276706Z",
     "shell.execute_reply": "2022-04-05T16:08:47.276028Z",
     "shell.execute_reply.started": "2022-04-05T16:08:47.258388Z"
    },
    "tags": []
   },
   "outputs": [
    {
     "data": {
      "text/html": [
       "Current session configs: <tt>{'proxyUser': 'user_vasveena', 'conf': {'spark.pyspark.python': 'python3', 'spark.pyspark.virtualenv.enabled': 'true', 'spark.pyspark.virtualenv.type': 'native', 'spark.pyspark.virtualenv.bin.path': '/usr/bin/virtualenv'}, 'kind': 'pyspark'}</tt><br>"
      ],
      "text/plain": [
       "<IPython.core.display.HTML object>"
      ]
     },
     "metadata": {},
     "output_type": "display_data"
    },
    {
     "data": {
      "text/html": [
       "No active sessions."
      ],
      "text/plain": [
       "<IPython.core.display.HTML object>"
      ]
     },
     "metadata": {},
     "output_type": "display_data"
    }
   ],
   "source": [
    "%%info"
   ]
  },
  {
   "cell_type": "markdown",
   "id": "ee6dadf6-36f2-46a6-b5c8-93edcd17966b",
   "metadata": {},
   "source": [
    "We can install notebook scoped libraries for data exploration before ML activities. Let's start with listing the existing ones.   "
   ]
  },
  {
   "cell_type": "code",
   "execution_count": 2,
   "id": "e993c773-8fbf-476b-a673-f9c6a56a786b",
   "metadata": {
    "execution": {
     "iopub.execute_input": "2022-04-05T16:08:47.291729Z",
     "iopub.status.busy": "2022-04-05T16:08:47.291534Z",
     "iopub.status.idle": "2022-04-05T16:09:14.636425Z",
     "shell.execute_reply": "2022-04-05T16:09:14.635758Z",
     "shell.execute_reply.started": "2022-04-05T16:08:47.291702Z"
    },
    "tags": []
   },
   "outputs": [
    {
     "data": {
      "application/vnd.jupyter.widget-view+json": {
       "model_id": "7b876ff159b84817919ffbc4dd7948bd",
       "version_major": 2,
       "version_minor": 0
      },
      "text/plain": [
       "VBox()"
      ]
     },
     "metadata": {},
     "output_type": "display_data"
    },
    {
     "name": "stdout",
     "output_type": "stream",
     "text": [
      "Starting Spark application\n"
     ]
    },
    {
     "data": {
      "text/html": [
       "<table>\n<tbody><tr><th>ID</th><th>YARN Application ID</th><th>Kind</th><th>State</th><th>Spark UI</th><th>Driver log</th><th>Current session?</th></tr><tr><td>1</td><td>application_1647821053317_0005</td><td>pyspark</td><td>idle</td><td><a target=\"_blank\" href=\"http://ip-172-31-46-109.ec2.internal:20888/proxy/application_1647821053317_0005/\" class=\"emr-proxy-link j-22S3FZWZC511O application_1647821053317_0005\" emr-resource=\"j-22S3FZWZC511O\n\" application-id=\"application_1647821053317_0005\">Link</a></td><td><a target=\"_blank\" href=\"http://ip-172-31-34-8.ec2.internal:8042/node/containerlogs/container_1647821053317_0005_01_000001/livy\">Link</a></td><td>✔</td></tr></tbody></table>"
      ],
      "text/plain": [
       "<IPython.core.display.HTML object>"
      ]
     },
     "metadata": {},
     "output_type": "display_data"
    },
    {
     "data": {
      "application/vnd.jupyter.widget-view+json": {
       "model_id": "",
       "version_major": 2,
       "version_minor": 0
      },
      "text/plain": [
       "FloatProgress(value=0.0, bar_style='info', description='Progress:', layout=Layout(height='25px', width='50%'),…"
      ]
     },
     "metadata": {},
     "output_type": "display_data"
    },
    {
     "name": "stdout",
     "output_type": "stream",
     "text": [
      "SparkSession available as 'spark'.\n"
     ]
    },
    {
     "data": {
      "application/vnd.jupyter.widget-view+json": {
       "model_id": "",
       "version_major": 2,
       "version_minor": 0
      },
      "text/plain": [
       "FloatProgress(value=0.0, bar_style='info', description='Progress:', layout=Layout(height='25px', width='50%'),…"
      ]
     },
     "metadata": {},
     "output_type": "display_data"
    },
    {
     "name": "stdout",
     "output_type": "stream",
     "text": [
      "aws-cfn-bootstrap (2.0)\n",
      "beautifulsoup4 (4.9.3)\n",
      "boto (2.49.0)\n",
      "click (8.0.3)\n",
      "docutils (0.14)\n",
      "jmespath (0.10.0)\n",
      "joblib (1.1.0)\n",
      "lockfile (0.11.0)\n",
      "lxml (4.6.3)\n",
      "mysqlclient (1.4.2)\n",
      "nltk (3.6.5)\n",
      "nose (1.3.4)\n",
      "numpy (1.16.5)\n",
      "pip (9.0.1)\n",
      "py-dateutil (2.2)\n",
      "pystache (0.5.4)\n",
      "python-daemon (2.2.3)\n",
      "python37-sagemaker-pyspark (1.4.1)\n",
      "pytz (2021.3)\n",
      "PyYAML (5.4.1)\n",
      "regex (2021.10.21)\n",
      "setuptools (28.8.0)\n",
      "simplejson (3.2.0)\n",
      "six (1.13.0)\n",
      "tqdm (4.62.3)\n",
      "wheel (0.29.0)\n",
      "windmill (1.6)\n",
      "\n",
      "DEPRECATION: The default format will switch to columns in the future. You can use --format=(legacy|columns) (or define a format=(legacy|columns) in your pip.conf under the [list] section) to disable this warning.\n",
      "You are using pip version 9.0.1, however version 22.0.4 is available.\n",
      "You should consider upgrading via the 'pip install --upgrade pip' command."
     ]
    }
   ],
   "source": [
    "sc.list_packages()"
   ]
  },
  {
   "cell_type": "markdown",
   "id": "7128400d-1f1c-4c71-bf15-1ce855649437",
   "metadata": {},
   "source": [
    "Install notebook-scoped libraries"
   ]
  },
  {
   "cell_type": "code",
   "execution_count": 3,
   "id": "a7a33642-808c-411d-8c3a-01c5ff9e5a25",
   "metadata": {
    "execution": {
     "iopub.execute_input": "2022-04-05T16:09:14.637667Z",
     "iopub.status.busy": "2022-04-05T16:09:14.637465Z",
     "iopub.status.idle": "2022-04-05T16:09:48.034494Z",
     "shell.execute_reply": "2022-04-05T16:09:48.033757Z",
     "shell.execute_reply.started": "2022-04-05T16:09:14.637638Z"
    },
    "tags": []
   },
   "outputs": [
    {
     "data": {
      "application/vnd.jupyter.widget-view+json": {
       "model_id": "dd082f49d18a4d1ebd5960b18cb0e91e",
       "version_major": 2,
       "version_minor": 0
      },
      "text/plain": [
       "VBox()"
      ]
     },
     "metadata": {},
     "output_type": "display_data"
    },
    {
     "data": {
      "application/vnd.jupyter.widget-view+json": {
       "model_id": "",
       "version_major": 2,
       "version_minor": 0
      },
      "text/plain": [
       "FloatProgress(value=0.0, bar_style='info', description='Progress:', layout=Layout(height='25px', width='50%'),…"
      ]
     },
     "metadata": {},
     "output_type": "display_data"
    },
    {
     "name": "stdout",
     "output_type": "stream",
     "text": [
      "Collecting pandas==1.0.1\n",
      "  Downloading https://files.pythonhosted.org/packages/61/af/ceb7523e86753d5643ed00e8c17a42bdcfe819782c3449d9bbbf5d01867a/pandas-1.0.1-cp37-cp37m-manylinux1_x86_64.whl (10.1MB)\n",
      "Requirement already satisfied: pytz>=2017.2 in /usr/local/lib/python3.7/site-packages (from pandas==1.0.1)\n",
      "Requirement already satisfied: numpy>=1.13.3 in /usr/local/lib64/python3.7/site-packages (from pandas==1.0.1)\n",
      "Collecting python-dateutil>=2.6.1 (from pandas==1.0.1)\n",
      "  Using cached https://files.pythonhosted.org/packages/36/7a/87837f39d0296e723bb9b62bbb257d0355c7f6128853c78955f57342a56d/python_dateutil-2.8.2-py2.py3-none-any.whl\n",
      "Requirement already satisfied: six>=1.5 in /usr/local/lib/python3.7/site-packages (from python-dateutil>=2.6.1->pandas==1.0.1)\n",
      "Installing collected packages: python-dateutil, pandas\n",
      "Successfully installed pandas-1.0.1 python-dateutil-2.8.2\n",
      "\n",
      "Collecting numpy==1.20.2\n",
      "  Downloading https://files.pythonhosted.org/packages/a9/03/5b216f6a55ffc6bdac3ad3a896c58d4f17d99e18ff82fc68363df7d6a7b3/numpy-1.20.2-cp37-cp37m-manylinux1_x86_64.whl (13.8MB)\n",
      "Installing collected packages: numpy\n",
      "  Found existing installation: numpy 1.16.5\n",
      "    Not uninstalling numpy at /usr/local/lib64/python3.7/site-packages, outside environment /tmp/1649174950647-0\n",
      "Successfully installed numpy-1.20.2\n",
      "\n",
      "Collecting matplotlib==3.2.0\n",
      "  Downloading https://files.pythonhosted.org/packages/6c/ab/e1585a7101f8f7047376b59274ada50fefd637bd4cd99d2125a1b730845a/matplotlib-3.2.0-cp37-cp37m-manylinux1_x86_64.whl (12.4MB)\n",
      "Requirement already satisfied: python-dateutil>=2.1 in /mnt/tmp/1649174950647-0/lib/python3.7/site-packages (from matplotlib==3.2.0)\n",
      "Collecting pyparsing!=2.0.4,!=2.1.2,!=2.1.6,>=2.0.1 (from matplotlib==3.2.0)\n",
      "  Using cached https://files.pythonhosted.org/packages/80/c1/23fd82ad3121656b585351aba6c19761926bb0db2ebed9e4ff09a43a3fcc/pyparsing-3.0.7-py3-none-any.whl\n",
      "Collecting cycler>=0.10 (from matplotlib==3.2.0)\n",
      "  Using cached https://files.pythonhosted.org/packages/5c/f9/695d6bedebd747e5eb0fe8fad57b72fdf25411273a39791cde838d5a8f51/cycler-0.11.0-py3-none-any.whl\n",
      "Requirement already satisfied: numpy>=1.11 in /mnt/tmp/1649174950647-0/lib/python3.7/site-packages (from matplotlib==3.2.0)\n",
      "Collecting kiwisolver>=1.0.1 (from matplotlib==3.2.0)\n",
      "  Using cached https://files.pythonhosted.org/packages/51/50/9a9a94afa26c50fc5d9127272737806990aa698c7a1c220b8e5075e70304/kiwisolver-1.4.2-cp37-cp37m-manylinux_2_5_x86_64.manylinux1_x86_64.whl\n",
      "Requirement already satisfied: six>=1.5 in /usr/local/lib/python3.7/site-packages (from python-dateutil>=2.1->matplotlib==3.2.0)\n",
      "Collecting typing-extensions; python_version < \"3.8\" (from kiwisolver>=1.0.1->matplotlib==3.2.0)\n",
      "  Using cached https://files.pythonhosted.org/packages/45/6b/44f7f8f1e110027cf88956b59f2fad776cca7e1704396d043f89effd3a0e/typing_extensions-4.1.1-py3-none-any.whl\n",
      "Installing collected packages: pyparsing, cycler, typing-extensions, kiwisolver, matplotlib\n",
      "Successfully installed cycler-0.11.0 kiwisolver-1.4.2 matplotlib-3.2.0 pyparsing-3.0.7 typing-extensions-4.1.1\n",
      "\n",
      "You are using pip version 9.0.1, however version 22.0.4 is available.\n",
      "You should consider upgrading via the 'pip install --upgrade pip' command.\n",
      "\n",
      "You are using pip version 9.0.1, however version 22.0.4 is available.\n",
      "You should consider upgrading via the 'pip install --upgrade pip' command.\n",
      "\n",
      "You are using pip version 9.0.1, however version 22.0.4 is available.\n",
      "You should consider upgrading via the 'pip install --upgrade pip' command."
     ]
    }
   ],
   "source": [
    "sc.install_pypi_package(\"pandas==1.0.1\") #Install pandas version 1.0.5\n",
    "sc.install_pypi_package(\"numpy==1.20.2\") #Intall numpy version 1.19.5\n",
    "sc.install_pypi_package(\"matplotlib==3.2.0\",\"https://pypi.org/simple\") #Install matplotlib from given PyPI repository"
   ]
  },
  {
   "cell_type": "code",
   "execution_count": 4,
   "id": "fd5a28e5-0cd2-43aa-8463-552850392ddc",
   "metadata": {
    "execution": {
     "iopub.execute_input": "2022-04-05T16:09:48.040369Z",
     "iopub.status.busy": "2022-04-05T16:09:48.040169Z",
     "iopub.status.idle": "2022-04-05T16:09:48.806256Z",
     "shell.execute_reply": "2022-04-05T16:09:48.805500Z",
     "shell.execute_reply.started": "2022-04-05T16:09:48.040340Z"
    },
    "tags": []
   },
   "outputs": [
    {
     "data": {
      "application/vnd.jupyter.widget-view+json": {
       "model_id": "f943d3c7535e47bba0bf1dd629db4ce2",
       "version_major": 2,
       "version_minor": 0
      },
      "text/plain": [
       "VBox()"
      ]
     },
     "metadata": {},
     "output_type": "display_data"
    },
    {
     "data": {
      "application/vnd.jupyter.widget-view+json": {
       "model_id": "",
       "version_major": 2,
       "version_minor": 0
      },
      "text/plain": [
       "FloatProgress(value=0.0, bar_style='info', description='Progress:', layout=Layout(height='25px', width='50%'),…"
      ]
     },
     "metadata": {},
     "output_type": "display_data"
    },
    {
     "name": "stdout",
     "output_type": "stream",
     "text": [
      "aws-cfn-bootstrap (2.0)\n",
      "beautifulsoup4 (4.9.3)\n",
      "boto (2.49.0)\n",
      "click (8.0.3)\n",
      "cycler (0.11.0)\n",
      "docutils (0.14)\n",
      "jmespath (0.10.0)\n",
      "joblib (1.1.0)\n",
      "kiwisolver (1.4.2)\n",
      "lockfile (0.11.0)\n",
      "lxml (4.6.3)\n",
      "matplotlib (3.2.0)\n",
      "mysqlclient (1.4.2)\n",
      "nltk (3.6.5)\n",
      "nose (1.3.4)\n",
      "numpy (1.20.2)\n",
      "pandas (1.0.1)\n",
      "pip (9.0.1)\n",
      "py-dateutil (2.2)\n",
      "pyparsing (3.0.7)\n",
      "pystache (0.5.4)\n",
      "python-daemon (2.2.3)\n",
      "python-dateutil (2.8.2)\n",
      "python37-sagemaker-pyspark (1.4.1)\n",
      "pytz (2021.3)\n",
      "PyYAML (5.4.1)\n",
      "regex (2021.10.21)\n",
      "setuptools (28.8.0)\n",
      "simplejson (3.2.0)\n",
      "six (1.13.0)\n",
      "tqdm (4.62.3)\n",
      "typing-extensions (4.1.1)\n",
      "wheel (0.29.0)\n",
      "windmill (1.6)\n",
      "\n",
      "DEPRECATION: The default format will switch to columns in the future. You can use --format=(legacy|columns) (or define a format=(legacy|columns) in your pip.conf under the [list] section) to disable this warning.\n",
      "You are using pip version 9.0.1, however version 22.0.4 is available.\n",
      "You should consider upgrading via the 'pip install --upgrade pip' command."
     ]
    }
   ],
   "source": [
    "sc.list_packages()"
   ]
  },
  {
   "cell_type": "code",
   "execution_count": 5,
   "id": "215d9854-a694-4b14-8906-64ad4c9e9917",
   "metadata": {
    "execution": {
     "iopub.execute_input": "2022-04-05T16:09:48.807511Z",
     "iopub.status.busy": "2022-04-05T16:09:48.807186Z",
     "iopub.status.idle": "2022-04-05T16:09:56.104950Z",
     "shell.execute_reply": "2022-04-05T16:09:56.104094Z",
     "shell.execute_reply.started": "2022-04-05T16:09:48.807480Z"
    },
    "tags": []
   },
   "outputs": [
    {
     "data": {
      "application/vnd.jupyter.widget-view+json": {
       "model_id": "46a0a09ae0bd4dc995baf611946fccb5",
       "version_major": 2,
       "version_minor": 0
      },
      "text/plain": [
       "VBox()"
      ]
     },
     "metadata": {},
     "output_type": "display_data"
    },
    {
     "data": {
      "application/vnd.jupyter.widget-view+json": {
       "model_id": "",
       "version_major": 2,
       "version_minor": 0
      },
      "text/plain": [
       "FloatProgress(value=0.0, bar_style='info', description='Progress:', layout=Layout(height='25px', width='50%'),…"
      ]
     },
     "metadata": {},
     "output_type": "display_data"
    }
   ],
   "source": [
    "df = (spark.read\n",
    "          .format(\"csv\")\n",
    "          .option('header', 'true')\n",
    "          .load(\"s3://vasveena-test-demo/emr-sagemaker-ml/sparkml/inputdata/train.csv\"))"
   ]
  },
  {
   "cell_type": "code",
   "execution_count": 12,
   "id": "0a79f9b1-0646-428e-a9db-a1ca2c7ff336",
   "metadata": {
    "execution": {
     "iopub.execute_input": "2022-04-05T16:11:06.356526Z",
     "iopub.status.busy": "2022-04-05T16:11:06.356267Z",
     "iopub.status.idle": "2022-04-05T16:11:07.121539Z",
     "shell.execute_reply": "2022-04-05T16:11:07.120939Z",
     "shell.execute_reply.started": "2022-04-05T16:11:06.356495Z"
    },
    "tags": []
   },
   "outputs": [
    {
     "data": {
      "application/vnd.jupyter.widget-view+json": {
       "model_id": "c5a181d5c15d4668a56eb39fe88045f2",
       "version_major": 2,
       "version_minor": 0
      },
      "text/plain": [
       "VBox()"
      ]
     },
     "metadata": {},
     "output_type": "display_data"
    },
    {
     "data": {
      "application/vnd.jupyter.widget-view+json": {
       "model_id": "",
       "version_major": 2,
       "version_minor": 0
      },
      "text/plain": [
       "FloatProgress(value=0.0, bar_style='info', description='Progress:', layout=Layout(height='25px', width='50%'),…"
      ]
     },
     "metadata": {},
     "output_type": "display_data"
    },
    {
     "name": "stdout",
     "output_type": "stream",
     "text": [
      "+-----------+--------+------+--------------------+------+----+-----+-----+----------------+-------+-----+--------+\n",
      "|PassengerId|Survived|Pclass|                Name|   Sex| Age|SibSp|Parch|          Ticket|   Fare|Cabin|Embarked|\n",
      "+-----------+--------+------+--------------------+------+----+-----+-----+----------------+-------+-----+--------+\n",
      "|          1|       0|     3|Braund, Mr. Owen ...|  male|  22|    1|    0|       A/5 21171|   7.25| null|       S|\n",
      "|          2|       1|     1|Cumings, Mrs. Joh...|female|  38|    1|    0|        PC 17599|71.2833|  C85|       C|\n",
      "|          3|       1|     3|Heikkinen, Miss. ...|female|  26|    0|    0|STON/O2. 3101282|  7.925| null|       S|\n",
      "|          4|       1|     1|Futrelle, Mrs. Ja...|female|  35|    1|    0|          113803|   53.1| C123|       S|\n",
      "|          5|       0|     3|Allen, Mr. Willia...|  male|  35|    0|    0|          373450|   8.05| null|       S|\n",
      "|          6|       0|     3|    Moran, Mr. James|  male|null|    0|    0|          330877| 8.4583| null|       Q|\n",
      "|          7|       0|     1|McCarthy, Mr. Tim...|  male|  54|    0|    0|           17463|51.8625|  E46|       S|\n",
      "|          8|       0|     3|Palsson, Master. ...|  male|   2|    3|    1|          349909| 21.075| null|       S|\n",
      "|          9|       1|     3|Johnson, Mrs. Osc...|female|  27|    0|    2|          347742|11.1333| null|       S|\n",
      "|         10|       1|     2|Nasser, Mrs. Nich...|female|  14|    1|    0|          237736|30.0708| null|       C|\n",
      "|         11|       1|     3|Sandstrom, Miss. ...|female|   4|    1|    1|         PP 9549|   16.7|   G6|       S|\n",
      "|         12|       1|     1|Bonnell, Miss. El...|female|  58|    0|    0|          113783|  26.55| C103|       S|\n",
      "|         13|       0|     3|Saundercock, Mr. ...|  male|  20|    0|    0|       A/5. 2151|   8.05| null|       S|\n",
      "|         14|       0|     3|Andersson, Mr. An...|  male|  39|    1|    5|          347082| 31.275| null|       S|\n",
      "|         15|       0|     3|Vestrom, Miss. Hu...|female|  14|    0|    0|          350406| 7.8542| null|       S|\n",
      "|         16|       1|     2|Hewlett, Mrs. (Ma...|female|  55|    0|    0|          248706|     16| null|       S|\n",
      "|         17|       0|     3|Rice, Master. Eugene|  male|   2|    4|    1|          382652| 29.125| null|       Q|\n",
      "|         18|       1|     2|Williams, Mr. Cha...|  male|null|    0|    0|          244373|     13| null|       S|\n",
      "|         19|       0|     3|Vander Planke, Mr...|female|  31|    1|    0|          345763|     18| null|       S|\n",
      "|         20|       1|     3|Masselmani, Mrs. ...|female|null|    0|    0|            2649|  7.225| null|       C|\n",
      "+-----------+--------+------+--------------------+------+----+-----+-----+----------------+-------+-----+--------+\n",
      "only showing top 20 rows"
     ]
    }
   ],
   "source": [
    "df.show()"
   ]
  },
  {
   "cell_type": "code",
   "execution_count": 8,
   "id": "44263896-e9e1-433d-8eb7-b09e06ab25dd",
   "metadata": {
    "execution": {
     "iopub.execute_input": "2022-04-05T16:10:45.407234Z",
     "iopub.status.busy": "2022-04-05T16:10:45.406941Z",
     "iopub.status.idle": "2022-04-05T16:10:48.692253Z",
     "shell.execute_reply": "2022-04-05T16:10:48.691557Z",
     "shell.execute_reply.started": "2022-04-05T16:10:45.407202Z"
    },
    "tags": []
   },
   "outputs": [
    {
     "data": {
      "application/vnd.jupyter.widget-view+json": {
       "model_id": "c4dfa21587ae43ed8925297150aabb99",
       "version_major": 2,
       "version_minor": 0
      },
      "text/plain": [
       "VBox()"
      ]
     },
     "metadata": {},
     "output_type": "display_data"
    },
    {
     "data": {
      "application/vnd.jupyter.widget-view+json": {
       "model_id": "",
       "version_major": 2,
       "version_minor": 0
      },
      "text/plain": [
       "FloatProgress(value=0.0, bar_style='info', description='Progress:', layout=Layout(height='25px', width='50%'),…"
      ]
     },
     "metadata": {},
     "output_type": "display_data"
    },
    {
     "name": "stdout",
     "output_type": "stream",
     "text": [
      "891"
     ]
    }
   ],
   "source": [
    "df.count()"
   ]
  },
  {
   "cell_type": "code",
   "execution_count": 9,
   "id": "49906715-cc59-458a-a6ed-4ccda90a8e62",
   "metadata": {
    "execution": {
     "iopub.execute_input": "2022-04-05T16:10:48.693469Z",
     "iopub.status.busy": "2022-04-05T16:10:48.693264Z",
     "iopub.status.idle": "2022-04-05T16:10:48.745023Z",
     "shell.execute_reply": "2022-04-05T16:10:48.744448Z",
     "shell.execute_reply.started": "2022-04-05T16:10:48.693440Z"
    },
    "tags": []
   },
   "outputs": [
    {
     "data": {
      "application/vnd.jupyter.widget-view+json": {
       "model_id": "ad76f3ceeffe4d5da4a765494db017cc",
       "version_major": 2,
       "version_minor": 0
      },
      "text/plain": [
       "VBox()"
      ]
     },
     "metadata": {},
     "output_type": "display_data"
    },
    {
     "data": {
      "application/vnd.jupyter.widget-view+json": {
       "model_id": "",
       "version_major": 2,
       "version_minor": 0
      },
      "text/plain": [
       "FloatProgress(value=0.0, bar_style='info', description='Progress:', layout=Layout(height='25px', width='50%'),…"
      ]
     },
     "metadata": {},
     "output_type": "display_data"
    },
    {
     "name": "stdout",
     "output_type": "stream",
     "text": [
      "['PassengerId', 'Survived', 'Pclass', 'Name', 'Sex', 'Age', 'SibSp', 'Parch', 'Ticket', 'Fare', 'Cabin', 'Embarked']"
     ]
    }
   ],
   "source": [
    "df.columns"
   ]
  },
  {
   "cell_type": "code",
   "execution_count": 10,
   "id": "c1a5a70e-666c-4e2a-9b31-749478d717f8",
   "metadata": {
    "execution": {
     "iopub.execute_input": "2022-04-05T16:10:49.231660Z",
     "iopub.status.busy": "2022-04-05T16:10:49.231426Z",
     "iopub.status.idle": "2022-04-05T16:10:49.286318Z",
     "shell.execute_reply": "2022-04-05T16:10:49.285606Z",
     "shell.execute_reply.started": "2022-04-05T16:10:49.231621Z"
    },
    "tags": []
   },
   "outputs": [
    {
     "data": {
      "application/vnd.jupyter.widget-view+json": {
       "model_id": "67b7aad82f784fbfa462ec00a2120cac",
       "version_major": 2,
       "version_minor": 0
      },
      "text/plain": [
       "VBox()"
      ]
     },
     "metadata": {},
     "output_type": "display_data"
    },
    {
     "data": {
      "application/vnd.jupyter.widget-view+json": {
       "model_id": "",
       "version_major": 2,
       "version_minor": 0
      },
      "text/plain": [
       "FloatProgress(value=0.0, bar_style='info', description='Progress:', layout=Layout(height='25px', width='50%'),…"
      ]
     },
     "metadata": {},
     "output_type": "display_data"
    },
    {
     "name": "stdout",
     "output_type": "stream",
     "text": [
      "[('PassengerId', 'string'), ('Survived', 'string'), ('Pclass', 'string'), ('Name', 'string'), ('Sex', 'string'), ('Age', 'string'), ('SibSp', 'string'), ('Parch', 'string'), ('Ticket', 'string'), ('Fare', 'string'), ('Cabin', 'string'), ('Embarked', 'string')]"
     ]
    }
   ],
   "source": [
    "df.dtypes"
   ]
  },
  {
   "cell_type": "code",
   "execution_count": 11,
   "id": "8b1a7b6e-471c-4ab6-bb4b-7f37d150136d",
   "metadata": {
    "execution": {
     "iopub.execute_input": "2022-04-05T16:10:56.147440Z",
     "iopub.status.busy": "2022-04-05T16:10:56.147143Z",
     "iopub.status.idle": "2022-04-05T16:10:58.429607Z",
     "shell.execute_reply": "2022-04-05T16:10:58.428831Z",
     "shell.execute_reply.started": "2022-04-05T16:10:56.147409Z"
    },
    "tags": []
   },
   "outputs": [
    {
     "data": {
      "application/vnd.jupyter.widget-view+json": {
       "model_id": "5ca0631d59f849f483026e417c00bfc2",
       "version_major": 2,
       "version_minor": 0
      },
      "text/plain": [
       "VBox()"
      ]
     },
     "metadata": {},
     "output_type": "display_data"
    },
    {
     "data": {
      "application/vnd.jupyter.widget-view+json": {
       "model_id": "",
       "version_major": 2,
       "version_minor": 0
      },
      "text/plain": [
       "FloatProgress(value=0.0, bar_style='info', description='Progress:', layout=Layout(height='25px', width='50%'),…"
      ]
     },
     "metadata": {},
     "output_type": "display_data"
    },
    {
     "name": "stdout",
     "output_type": "stream",
     "text": [
      "  summary        PassengerId  ... Cabin Embarked\n",
      "0   count                891  ...   204      889\n",
      "1    mean              446.0  ...  None     None\n",
      "2  stddev  257.3538420152301  ...  None     None\n",
      "3     min                  1  ...   A10        C\n",
      "4     max                 99  ...     T        S\n",
      "\n",
      "[5 rows x 13 columns]"
     ]
    }
   ],
   "source": [
    "df.describe().toPandas()"
   ]
  },
  {
   "cell_type": "code",
   "execution_count": 13,
   "id": "2e6ee284-5a62-467f-a9b9-92cfb897cd8e",
   "metadata": {
    "execution": {
     "iopub.execute_input": "2022-04-05T16:11:23.883055Z",
     "iopub.status.busy": "2022-04-05T16:11:23.882764Z",
     "iopub.status.idle": "2022-04-05T16:11:24.647478Z",
     "shell.execute_reply": "2022-04-05T16:11:24.646871Z",
     "shell.execute_reply.started": "2022-04-05T16:11:23.883023Z"
    },
    "tags": []
   },
   "outputs": [
    {
     "data": {
      "application/vnd.jupyter.widget-view+json": {
       "model_id": "91e14cd795ef48d2adab51c66dddc6b7",
       "version_major": 2,
       "version_minor": 0
      },
      "text/plain": [
       "VBox()"
      ]
     },
     "metadata": {},
     "output_type": "display_data"
    },
    {
     "data": {
      "application/vnd.jupyter.widget-view+json": {
       "model_id": "",
       "version_major": 2,
       "version_minor": 0
      },
      "text/plain": [
       "FloatProgress(value=0.0, bar_style='info', description='Progress:', layout=Layout(height='25px', width='50%'),…"
      ]
     },
     "metadata": {},
     "output_type": "display_data"
    },
    {
     "name": "stdout",
     "output_type": "stream",
     "text": [
      "+--------+------+------+----+-------+--------+\n",
      "|Survived|Pclass|   Sex| Age|   Fare|Embarked|\n",
      "+--------+------+------+----+-------+--------+\n",
      "|     0.0|   3.0|  male|22.0|   7.25|       S|\n",
      "|     1.0|   1.0|female|38.0|71.2833|       C|\n",
      "|     1.0|   3.0|female|26.0|  7.925|       S|\n",
      "|     1.0|   1.0|female|35.0|   53.1|       S|\n",
      "|     0.0|   3.0|  male|35.0|   8.05|       S|\n",
      "|     0.0|   3.0|  male|null| 8.4583|       Q|\n",
      "|     0.0|   1.0|  male|54.0|51.8625|       S|\n",
      "|     0.0|   3.0|  male| 2.0| 21.075|       S|\n",
      "|     1.0|   3.0|female|27.0|11.1333|       S|\n",
      "|     1.0|   2.0|female|14.0|30.0708|       C|\n",
      "|     1.0|   3.0|female| 4.0|   16.7|       S|\n",
      "|     1.0|   1.0|female|58.0|  26.55|       S|\n",
      "|     0.0|   3.0|  male|20.0|   8.05|       S|\n",
      "|     0.0|   3.0|  male|39.0| 31.275|       S|\n",
      "|     0.0|   3.0|female|14.0| 7.8542|       S|\n",
      "|     1.0|   2.0|female|55.0|   16.0|       S|\n",
      "|     0.0|   3.0|  male| 2.0| 29.125|       Q|\n",
      "|     1.0|   2.0|  male|null|   13.0|       S|\n",
      "|     0.0|   3.0|female|31.0|   18.0|       S|\n",
      "|     1.0|   3.0|female|null|  7.225|       C|\n",
      "+--------+------+------+----+-------+--------+\n",
      "only showing top 20 rows"
     ]
    }
   ],
   "source": [
    "from pyspark.sql.functions import col\n",
    "dataset = df.select(col('Survived').cast('float'),\n",
    "                         col('Pclass').cast('float'),\n",
    "                         col('Sex'),\n",
    "                         col('Age').cast('float'),\n",
    "                         col('Fare').cast('float'),\n",
    "                         col('Embarked')\n",
    "                        )\n",
    "dataset.show()"
   ]
  },
  {
   "cell_type": "markdown",
   "id": "dfe9a9a2-a95f-4f92-97b1-018b967c4af7",
   "metadata": {},
   "source": [
    "Explore data using matplot "
   ]
  },
  {
   "cell_type": "code",
   "execution_count": 23,
   "id": "ad9171b3-fdee-4e5f-814d-f1c21f522a48",
   "metadata": {
    "execution": {
     "iopub.execute_input": "2022-04-05T16:19:39.654569Z",
     "iopub.status.busy": "2022-04-05T16:19:39.654300Z",
     "iopub.status.idle": "2022-04-05T16:19:40.599111Z",
     "shell.execute_reply": "2022-04-05T16:19:40.598411Z",
     "shell.execute_reply.started": "2022-04-05T16:19:39.654537Z"
    },
    "tags": []
   },
   "outputs": [
    {
     "data": {
      "application/vnd.jupyter.widget-view+json": {
       "model_id": "44c36999d1514cc2bdcf972b4b38af48",
       "version_major": 2,
       "version_minor": 0
      },
      "text/plain": [
       "VBox()"
      ]
     },
     "metadata": {},
     "output_type": "display_data"
    },
    {
     "data": {
      "application/vnd.jupyter.widget-view+json": {
       "model_id": "",
       "version_major": 2,
       "version_minor": 0
      },
      "text/plain": [
       "FloatProgress(value=0.0, bar_style='info', description='Progress:', layout=Layout(height='25px', width='50%'),…"
      ]
     },
     "metadata": {},
     "output_type": "display_data"
    },
    {
     "name": "stdout",
     "output_type": "stream",
     "text": [
      "<matplotlib.legend.Legend object at 0x7f5fab2a7d90>"
     ]
    }
   ],
   "source": [
    "# Distribution of survivors \n",
    "survival_dist = df.groupBy('Survived','Sex').count().orderBy('Sex').toPandas()\n",
    "\n",
    "import matplotlib.pyplot as plt\n",
    "plt.clf()\n",
    "labels = [f\"Survivors: {survivors}\" for survivors in survival_dist['Survived']]\n",
    "survivors = [survivors for survivors in survival_dist['count']]\n",
    "colors = ['#00876c', '#89c079', '#fff392', '#fc9e5a', '#de425b']\n",
    "fig, ax = plt.subplots(figsize=(8,5))\n",
    "w,a,b = ax.pie(survivors, autopct='%1.1f%%', colors=colors)\n",
    "plt.title('Distribution of survivors for gender')\n",
    "ax.legend(w, labels, title=\"Survivors\", loc=\"center left\", bbox_to_anchor=(1, 0, 0.5, 1))"
   ]
  },
  {
   "cell_type": "code",
   "execution_count": 22,
   "id": "e696c024-defe-4ea4-9959-b68ed9fd0964",
   "metadata": {
    "execution": {
     "iopub.execute_input": "2022-04-05T16:18:58.011871Z",
     "iopub.status.busy": "2022-04-05T16:18:58.011663Z",
     "iopub.status.idle": "2022-04-05T16:18:58.246389Z",
     "shell.execute_reply": "2022-04-05T16:18:58.245698Z",
     "shell.execute_reply.started": "2022-04-05T16:18:58.011843Z"
    },
    "tags": []
   },
   "outputs": [
    {
     "data": {
      "application/vnd.jupyter.widget-view+json": {
       "model_id": "",
       "version_major": 2,
       "version_minor": 0
      },
      "text/plain": [
       "FloatProgress(value=0.0, bar_style='info', description='Progress:', layout=Layout(height='25px', width='50%'),…"
      ]
     },
     "metadata": {},
     "output_type": "display_data"
    },
    {
     "data": {
      "image/png": "[encoded data removed]",
      "text/plain": [
       "<IPython.core.display.Image object>"
      ]
     },
     "metadata": {},
     "output_type": "display_data"
    }
   ],
   "source": [
    "%matplot plt"
   ]
  },
  {
   "cell_type": "code",
   "execution_count": 47,
   "id": "49c29493-39bf-4637-a811-12c426a163ed",
   "metadata": {
    "execution": {
     "iopub.execute_input": "2022-04-05T16:38:44.623919Z",
     "iopub.status.busy": "2022-04-05T16:38:44.623677Z",
     "iopub.status.idle": "2022-04-05T16:38:44.852085Z",
     "shell.execute_reply": "2022-04-05T16:38:44.851447Z",
     "shell.execute_reply.started": "2022-04-05T16:38:44.623889Z"
    },
    "tags": []
   },
   "outputs": [
    {
     "data": {
      "application/vnd.jupyter.widget-view+json": {
       "model_id": "",
       "version_major": 2,
       "version_minor": 0
      },
      "text/plain": [
       "FloatProgress(value=0.0, bar_style='info', description='Progress:', layout=Layout(height='25px', width='50%'),…"
      ]
     },
     "metadata": {},
     "output_type": "display_data"
    },
    {
     "data": {
      "image/png": "[encoded data removed]",
      "text/plain": [
       "<IPython.core.display.Image object>"
      ]
     },
     "metadata": {},
     "output_type": "display_data"
    }
   ],
   "source": [
    "%matplot plt"
   ]
  },
  {
   "cell_type": "code",
   "execution_count": 16,
   "id": "0d44ae3d-7c4e-42e1-b139-ee6ef882d10a",
   "metadata": {
    "execution": {
     "iopub.execute_input": "2022-04-05T15:51:49.494711Z",
     "iopub.status.busy": "2022-04-05T15:51:49.494460Z",
     "iopub.status.idle": "2022-04-05T15:51:50.263075Z",
     "shell.execute_reply": "2022-04-05T15:51:50.262389Z",
     "shell.execute_reply.started": "2022-04-05T15:51:49.494682Z"
    }
   },
   "outputs": [
    {
     "data": {
      "application/vnd.jupyter.widget-view+json": {
       "model_id": "dce06bd409e84e748121a11d5d6335b9",
       "version_major": 2,
       "version_minor": 0
      },
      "text/plain": [
       "VBox()"
      ]
     },
     "metadata": {},
     "output_type": "display_data"
    },
    {
     "data": {
      "application/vnd.jupyter.widget-view+json": {
       "model_id": "",
       "version_major": 2,
       "version_minor": 0
      },
      "text/plain": [
       "FloatProgress(value=0.0, bar_style='info', description='Progress:', layout=Layout(height='25px', width='50%'),…"
      ]
     },
     "metadata": {},
     "output_type": "display_data"
    },
    {
     "name": "stdout",
     "output_type": "stream",
     "text": [
      "+--------+------+---+---+----+--------+\n",
      "|Survived|Pclass|Sex|Age|Fare|Embarked|\n",
      "+--------+------+---+---+----+--------+\n",
      "|       0|     0|  0|177|   0|       2|\n",
      "+--------+------+---+---+----+--------+"
     ]
    }
   ],
   "source": [
    "from pyspark.sql.functions import isnull, when, count, col\n",
    "dataset.select([count(when(isnull(c), c)).alias(c) for c in dataset.columns]).show()"
   ]
  },
  {
   "cell_type": "code",
   "execution_count": 17,
   "id": "a83601df-3f45-4440-ac34-e93d08ad205b",
   "metadata": {
    "execution": {
     "iopub.execute_input": "2022-04-05T15:52:06.555289Z",
     "iopub.status.busy": "2022-04-05T15:52:06.555040Z",
     "iopub.status.idle": "2022-04-05T15:52:06.817044Z",
     "shell.execute_reply": "2022-04-05T15:52:06.816306Z",
     "shell.execute_reply.started": "2022-04-05T15:52:06.555260Z"
    }
   },
   "outputs": [
    {
     "data": {
      "application/vnd.jupyter.widget-view+json": {
       "model_id": "bf2a389441524940a5df805815c6049a",
       "version_major": 2,
       "version_minor": 0
      },
      "text/plain": [
       "VBox()"
      ]
     },
     "metadata": {},
     "output_type": "display_data"
    },
    {
     "data": {
      "application/vnd.jupyter.widget-view+json": {
       "model_id": "",
       "version_major": 2,
       "version_minor": 0
      },
      "text/plain": [
       "FloatProgress(value=0.0, bar_style='info', description='Progress:', layout=Layout(height='25px', width='50%'),…"
      ]
     },
     "metadata": {},
     "output_type": "display_data"
    }
   ],
   "source": [
    "dataset = dataset.replace('?', None)\\\n",
    "        .dropna(how='any')"
   ]
  },
  {
   "cell_type": "markdown",
   "id": "bf6e2de1-bb0f-4e52-b96a-1f419868ed82",
   "metadata": {},
   "source": [
    "Spark ML lib works with only numeric data. But we still want to use the Sex and the Embarked column. For that, we will need to encode them. To do it let’s use **StringIndexer** (Feature Transformers) (https://spark.apache.org/docs/latest/ml-features#stringindexer)"
   ]
  },
  {
   "cell_type": "code",
   "execution_count": 18,
   "id": "e04a4ab0-f3f0-4345-929c-b92746807e6b",
   "metadata": {
    "execution": {
     "iopub.execute_input": "2022-04-05T15:54:54.443359Z",
     "iopub.status.busy": "2022-04-05T15:54:54.443100Z",
     "iopub.status.idle": "2022-04-05T15:55:05.758923Z",
     "shell.execute_reply": "2022-04-05T15:55:05.758302Z",
     "shell.execute_reply.started": "2022-04-05T15:54:54.443329Z"
    }
   },
   "outputs": [
    {
     "data": {
      "application/vnd.jupyter.widget-view+json": {
       "model_id": "cc3aa65547ab4983b9fd41e56182a464",
       "version_major": 2,
       "version_minor": 0
      },
      "text/plain": [
       "VBox()"
      ]
     },
     "metadata": {},
     "output_type": "display_data"
    },
    {
     "data": {
      "application/vnd.jupyter.widget-view+json": {
       "model_id": "",
       "version_major": 2,
       "version_minor": 0
      },
      "text/plain": [
       "FloatProgress(value=0.0, bar_style='info', description='Progress:', layout=Layout(height='25px', width='50%'),…"
      ]
     },
     "metadata": {},
     "output_type": "display_data"
    },
    {
     "name": "stdout",
     "output_type": "stream",
     "text": [
      "+--------+------+------+----+-------+--------+------+-------+\n",
      "|Survived|Pclass|   Sex| Age|   Fare|Embarked|Gender|Boarded|\n",
      "+--------+------+------+----+-------+--------+------+-------+\n",
      "|     0.0|   3.0|  male|22.0|   7.25|       S|   0.0|    0.0|\n",
      "|     1.0|   1.0|female|38.0|71.2833|       C|   1.0|    1.0|\n",
      "|     1.0|   3.0|female|26.0|  7.925|       S|   1.0|    0.0|\n",
      "|     1.0|   1.0|female|35.0|   53.1|       S|   1.0|    0.0|\n",
      "|     0.0|   3.0|  male|35.0|   8.05|       S|   0.0|    0.0|\n",
      "|     0.0|   1.0|  male|54.0|51.8625|       S|   0.0|    0.0|\n",
      "|     0.0|   3.0|  male| 2.0| 21.075|       S|   0.0|    0.0|\n",
      "|     1.0|   3.0|female|27.0|11.1333|       S|   1.0|    0.0|\n",
      "|     1.0|   2.0|female|14.0|30.0708|       C|   1.0|    1.0|\n",
      "|     1.0|   3.0|female| 4.0|   16.7|       S|   1.0|    0.0|\n",
      "|     1.0|   1.0|female|58.0|  26.55|       S|   1.0|    0.0|\n",
      "|     0.0|   3.0|  male|20.0|   8.05|       S|   0.0|    0.0|\n",
      "|     0.0|   3.0|  male|39.0| 31.275|       S|   0.0|    0.0|\n",
      "|     0.0|   3.0|female|14.0| 7.8542|       S|   1.0|    0.0|\n",
      "|     1.0|   2.0|female|55.0|   16.0|       S|   1.0|    0.0|\n",
      "|     0.0|   3.0|  male| 2.0| 29.125|       Q|   0.0|    2.0|\n",
      "|     0.0|   3.0|female|31.0|   18.0|       S|   1.0|    0.0|\n",
      "|     0.0|   2.0|  male|35.0|   26.0|       S|   0.0|    0.0|\n",
      "|     1.0|   2.0|  male|34.0|   13.0|       S|   0.0|    0.0|\n",
      "|     1.0|   3.0|female|15.0| 8.0292|       Q|   1.0|    2.0|\n",
      "+--------+------+------+----+-------+--------+------+-------+\n",
      "only showing top 20 rows"
     ]
    }
   ],
   "source": [
    "from pyspark.ml.feature import StringIndexer\n",
    "dataset = StringIndexer(\n",
    "    inputCol='Sex', \n",
    "    outputCol='Gender', \n",
    "    handleInvalid='keep').fit(dataset).transform(dataset)\n",
    "dataset = StringIndexer(\n",
    "    inputCol='Embarked', \n",
    "    outputCol='Boarded', \n",
    "    handleInvalid='keep').fit(dataset).transform(dataset)\n",
    "dataset.show()"
   ]
  },
  {
   "cell_type": "code",
   "execution_count": 19,
   "id": "ed4ebbfd-4e1c-4272-aaa3-b0abc85a7925",
   "metadata": {
    "execution": {
     "iopub.execute_input": "2022-04-05T15:55:05.760147Z",
     "iopub.status.busy": "2022-04-05T15:55:05.759948Z",
     "iopub.status.idle": "2022-04-05T15:55:05.814383Z",
     "shell.execute_reply": "2022-04-05T15:55:05.813735Z",
     "shell.execute_reply.started": "2022-04-05T15:55:05.760121Z"
    }
   },
   "outputs": [
    {
     "data": {
      "application/vnd.jupyter.widget-view+json": {
       "model_id": "4535da1368944ec89a6c65b37e5b448e",
       "version_major": 2,
       "version_minor": 0
      },
      "text/plain": [
       "VBox()"
      ]
     },
     "metadata": {},
     "output_type": "display_data"
    },
    {
     "data": {
      "application/vnd.jupyter.widget-view+json": {
       "model_id": "",
       "version_major": 2,
       "version_minor": 0
      },
      "text/plain": [
       "FloatProgress(value=0.0, bar_style='info', description='Progress:', layout=Layout(height='25px', width='50%'),…"
      ]
     },
     "metadata": {},
     "output_type": "display_data"
    },
    {
     "name": "stdout",
     "output_type": "stream",
     "text": [
      "[('Survived', 'float'), ('Pclass', 'float'), ('Sex', 'string'), ('Age', 'float'), ('Fare', 'float'), ('Embarked', 'string'), ('Gender', 'double'), ('Boarded', 'double')]"
     ]
    }
   ],
   "source": [
    "dataset.dtypes"
   ]
  },
  {
   "cell_type": "markdown",
   "id": "f5586e22-e0e4-42b0-811f-42f865786a25",
   "metadata": {},
   "source": [
    "Drop columns not needed "
   ]
  },
  {
   "cell_type": "code",
   "execution_count": 20,
   "id": "57eb4623-e420-45fe-8f9a-1f180b29855c",
   "metadata": {
    "execution": {
     "iopub.execute_input": "2022-04-05T15:55:14.398973Z",
     "iopub.status.busy": "2022-04-05T15:55:14.398684Z",
     "iopub.status.idle": "2022-04-05T15:55:15.173786Z",
     "shell.execute_reply": "2022-04-05T15:55:15.173155Z",
     "shell.execute_reply.started": "2022-04-05T15:55:14.398942Z"
    }
   },
   "outputs": [
    {
     "data": {
      "application/vnd.jupyter.widget-view+json": {
       "model_id": "ca000f9cb28f4490baecae6d86b5f52a",
       "version_major": 2,
       "version_minor": 0
      },
      "text/plain": [
       "VBox()"
      ]
     },
     "metadata": {},
     "output_type": "display_data"
    },
    {
     "data": {
      "application/vnd.jupyter.widget-view+json": {
       "model_id": "",
       "version_major": 2,
       "version_minor": 0
      },
      "text/plain": [
       "FloatProgress(value=0.0, bar_style='info', description='Progress:', layout=Layout(height='25px', width='50%'),…"
      ]
     },
     "metadata": {},
     "output_type": "display_data"
    },
    {
     "name": "stdout",
     "output_type": "stream",
     "text": [
      "+--------+------+----+-------+------+-------+\n",
      "|Survived|Pclass| Age|   Fare|Gender|Boarded|\n",
      "+--------+------+----+-------+------+-------+\n",
      "|     0.0|   3.0|22.0|   7.25|   0.0|    0.0|\n",
      "|     1.0|   1.0|38.0|71.2833|   1.0|    1.0|\n",
      "|     1.0|   3.0|26.0|  7.925|   1.0|    0.0|\n",
      "|     1.0|   1.0|35.0|   53.1|   1.0|    0.0|\n",
      "|     0.0|   3.0|35.0|   8.05|   0.0|    0.0|\n",
      "|     0.0|   1.0|54.0|51.8625|   0.0|    0.0|\n",
      "|     0.0|   3.0| 2.0| 21.075|   0.0|    0.0|\n",
      "|     1.0|   3.0|27.0|11.1333|   1.0|    0.0|\n",
      "|     1.0|   2.0|14.0|30.0708|   1.0|    1.0|\n",
      "|     1.0|   3.0| 4.0|   16.7|   1.0|    0.0|\n",
      "|     1.0|   1.0|58.0|  26.55|   1.0|    0.0|\n",
      "|     0.0|   3.0|20.0|   8.05|   0.0|    0.0|\n",
      "|     0.0|   3.0|39.0| 31.275|   0.0|    0.0|\n",
      "|     0.0|   3.0|14.0| 7.8542|   1.0|    0.0|\n",
      "|     1.0|   2.0|55.0|   16.0|   1.0|    0.0|\n",
      "|     0.0|   3.0| 2.0| 29.125|   0.0|    2.0|\n",
      "|     0.0|   3.0|31.0|   18.0|   1.0|    0.0|\n",
      "|     0.0|   2.0|35.0|   26.0|   0.0|    0.0|\n",
      "|     1.0|   2.0|34.0|   13.0|   0.0|    0.0|\n",
      "|     1.0|   3.0|15.0| 8.0292|   1.0|    2.0|\n",
      "+--------+------+----+-------+------+-------+\n",
      "only showing top 20 rows"
     ]
    }
   ],
   "source": [
    "dataset = dataset.drop('Sex')\n",
    "dataset = dataset.drop('Embarked')\n",
    "dataset.show()"
   ]
  },
  {
   "cell_type": "markdown",
   "id": "01a1c886-4df0-4a3f-a218-023855ac8142",
   "metadata": {},
   "source": [
    "Assemble all the features with VectorAssembler"
   ]
  },
  {
   "cell_type": "code",
   "execution_count": 21,
   "id": "cbae13a7-9e66-426a-a664-0c3d616b8b25",
   "metadata": {
    "execution": {
     "iopub.execute_input": "2022-04-05T15:56:22.683233Z",
     "iopub.status.busy": "2022-04-05T15:56:22.682978Z",
     "iopub.status.idle": "2022-04-05T15:56:22.945965Z",
     "shell.execute_reply": "2022-04-05T15:56:22.945245Z",
     "shell.execute_reply.started": "2022-04-05T15:56:22.683203Z"
    }
   },
   "outputs": [
    {
     "data": {
      "application/vnd.jupyter.widget-view+json": {
       "model_id": "f49712e0282a4462ba4cad1fdc7cec25",
       "version_major": 2,
       "version_minor": 0
      },
      "text/plain": [
       "VBox()"
      ]
     },
     "metadata": {},
     "output_type": "display_data"
    },
    {
     "data": {
      "application/vnd.jupyter.widget-view+json": {
       "model_id": "",
       "version_major": 2,
       "version_minor": 0
      },
      "text/plain": [
       "FloatProgress(value=0.0, bar_style='info', description='Progress:', layout=Layout(height='25px', width='50%'),…"
      ]
     },
     "metadata": {},
     "output_type": "display_data"
    }
   ],
   "source": [
    "required_features = ['Pclass',\n",
    "                    'Age',\n",
    "                    'Fare',\n",
    "                    'Gender',\n",
    "                    'Boarded'\n",
    "                   ]\n",
    "from pyspark.ml.feature import VectorAssembler\n",
    "assembler = VectorAssembler(inputCols=required_features, outputCol='features')\n",
    "transformed_data = assembler.transform(dataset)"
   ]
  },
  {
   "cell_type": "code",
   "execution_count": 22,
   "id": "5545438e-5acb-4d6b-b978-cb55525bf596",
   "metadata": {
    "execution": {
     "iopub.execute_input": "2022-04-05T15:57:11.189089Z",
     "iopub.status.busy": "2022-04-05T15:57:11.188840Z",
     "iopub.status.idle": "2022-04-05T15:57:20.496279Z",
     "shell.execute_reply": "2022-04-05T15:57:20.495602Z",
     "shell.execute_reply.started": "2022-04-05T15:57:11.189059Z"
    }
   },
   "outputs": [
    {
     "data": {
      "application/vnd.jupyter.widget-view+json": {
       "model_id": "ae34a828f4754ee7afb2b4221309e721",
       "version_major": 2,
       "version_minor": 0
      },
      "text/plain": [
       "VBox()"
      ]
     },
     "metadata": {},
     "output_type": "display_data"
    },
    {
     "data": {
      "application/vnd.jupyter.widget-view+json": {
       "model_id": "",
       "version_major": 2,
       "version_minor": 0
      },
      "text/plain": [
       "FloatProgress(value=0.0, bar_style='info', description='Progress:', layout=Layout(height='25px', width='50%'),…"
      ]
     },
     "metadata": {},
     "output_type": "display_data"
    },
    {
     "name": "stdout",
     "output_type": "stream",
     "text": [
      "+--------+------+----+-------+------+-------+--------------------+\n",
      "|Survived|Pclass| Age|   Fare|Gender|Boarded|            features|\n",
      "+--------+------+----+-------+------+-------+--------------------+\n",
      "|     0.0|   3.0|22.0|   7.25|   0.0|    0.0|[3.0,22.0,7.25,0....|\n",
      "|     1.0|   1.0|38.0|71.2833|   1.0|    1.0|[1.0,38.0,71.2833...|\n",
      "|     1.0|   3.0|26.0|  7.925|   1.0|    0.0|[3.0,26.0,7.92500...|\n",
      "|     1.0|   1.0|35.0|   53.1|   1.0|    0.0|[1.0,35.0,53.0999...|\n",
      "|     0.0|   3.0|35.0|   8.05|   0.0|    0.0|[3.0,35.0,8.05000...|\n",
      "|     0.0|   1.0|54.0|51.8625|   0.0|    0.0|[1.0,54.0,51.8624...|\n",
      "|     0.0|   3.0| 2.0| 21.075|   0.0|    0.0|[3.0,2.0,21.07500...|\n",
      "|     1.0|   3.0|27.0|11.1333|   1.0|    0.0|[3.0,27.0,11.1332...|\n",
      "|     1.0|   2.0|14.0|30.0708|   1.0|    1.0|[2.0,14.0,30.0708...|\n",
      "|     1.0|   3.0| 4.0|   16.7|   1.0|    0.0|[3.0,4.0,16.70000...|\n",
      "|     1.0|   1.0|58.0|  26.55|   1.0|    0.0|[1.0,58.0,26.5499...|\n",
      "|     0.0|   3.0|20.0|   8.05|   0.0|    0.0|[3.0,20.0,8.05000...|\n",
      "|     0.0|   3.0|39.0| 31.275|   0.0|    0.0|[3.0,39.0,31.2749...|\n",
      "|     0.0|   3.0|14.0| 7.8542|   1.0|    0.0|[3.0,14.0,7.85419...|\n",
      "|     1.0|   2.0|55.0|   16.0|   1.0|    0.0|[2.0,55.0,16.0,1....|\n",
      "|     0.0|   3.0| 2.0| 29.125|   0.0|    2.0|[3.0,2.0,29.125,0...|\n",
      "|     0.0|   3.0|31.0|   18.0|   1.0|    0.0|[3.0,31.0,18.0,1....|\n",
      "|     0.0|   2.0|35.0|   26.0|   0.0|    0.0|[2.0,35.0,26.0,0....|\n",
      "|     1.0|   2.0|34.0|   13.0|   0.0|    0.0|[2.0,34.0,13.0,0....|\n",
      "|     1.0|   3.0|15.0| 8.0292|   1.0|    2.0|[3.0,15.0,8.02919...|\n",
      "+--------+------+----+-------+------+-------+--------------------+\n",
      "only showing top 20 rows"
     ]
    }
   ],
   "source": [
    "transformed_data.show()"
   ]
  },
  {
   "cell_type": "markdown",
   "id": "40025e3d-e548-4918-b983-ae1f4b742583",
   "metadata": {},
   "source": [
    "Now, finally we have our transformed data ready for ML activities. Lets begin building our ML model.\n",
    "\n",
    "First, let's split data into train and test (70:30 split). "
   ]
  },
  {
   "cell_type": "code",
   "execution_count": 23,
   "id": "6cb35791-3aa5-4b1a-afc4-cf829a107859",
   "metadata": {
    "execution": {
     "iopub.execute_input": "2022-04-05T15:58:15.512548Z",
     "iopub.status.busy": "2022-04-05T15:58:15.512294Z",
     "iopub.status.idle": "2022-04-05T15:58:15.774329Z",
     "shell.execute_reply": "2022-04-05T15:58:15.773569Z",
     "shell.execute_reply.started": "2022-04-05T15:58:15.512517Z"
    }
   },
   "outputs": [
    {
     "data": {
      "application/vnd.jupyter.widget-view+json": {
       "model_id": "e0f7d6a770d0421382e34b196c03cf03",
       "version_major": 2,
       "version_minor": 0
      },
      "text/plain": [
       "VBox()"
      ]
     },
     "metadata": {},
     "output_type": "display_data"
    },
    {
     "data": {
      "application/vnd.jupyter.widget-view+json": {
       "model_id": "",
       "version_major": 2,
       "version_minor": 0
      },
      "text/plain": [
       "FloatProgress(value=0.0, bar_style='info', description='Progress:', layout=Layout(height='25px', width='50%'),…"
      ]
     },
     "metadata": {},
     "output_type": "display_data"
    }
   ],
   "source": [
    "(training_data, test_data) = transformed_data.randomSplit([0.7,0.3])"
   ]
  },
  {
   "cell_type": "markdown",
   "id": "a54eb772-85e4-4047-a1c0-bc5c15bcdab7",
   "metadata": {},
   "source": [
    "Now, we can build and fit an ML model to our dataset to predict the “Survived” columns with all the other features. We will be using a Random Forest Classifier. This is actually an estimator that we have to fit."
   ]
  },
  {
   "cell_type": "code",
   "execution_count": 24,
   "id": "bf6f5223-dfc1-4331-a5d8-0bd3065e27fe",
   "metadata": {
    "execution": {
     "iopub.execute_input": "2022-04-05T15:59:45.429275Z",
     "iopub.status.busy": "2022-04-05T15:59:45.429017Z",
     "iopub.status.idle": "2022-04-05T15:59:45.691815Z",
     "shell.execute_reply": "2022-04-05T15:59:45.691155Z",
     "shell.execute_reply.started": "2022-04-05T15:59:45.429245Z"
    }
   },
   "outputs": [
    {
     "data": {
      "application/vnd.jupyter.widget-view+json": {
       "model_id": "6cbe3a2a33ae4ad8a6749a2dc8efe58a",
       "version_major": 2,
       "version_minor": 0
      },
      "text/plain": [
       "VBox()"
      ]
     },
     "metadata": {},
     "output_type": "display_data"
    },
    {
     "data": {
      "application/vnd.jupyter.widget-view+json": {
       "model_id": "",
       "version_major": 2,
       "version_minor": 0
      },
      "text/plain": [
       "FloatProgress(value=0.0, bar_style='info', description='Progress:', layout=Layout(height='25px', width='50%'),…"
      ]
     },
     "metadata": {},
     "output_type": "display_data"
    }
   ],
   "source": [
    "from pyspark.ml.classification import RandomForestClassifier\n",
    "rf = RandomForestClassifier(labelCol='Survived', \n",
    "                            featuresCol='features',\n",
    "                            maxDepth=5)"
   ]
  },
  {
   "cell_type": "markdown",
   "id": "b4e8f0b8-1ec2-4b84-9f5e-bec95d7fcc0d",
   "metadata": {},
   "source": [
    "Let's fit the model "
   ]
  },
  {
   "cell_type": "code",
   "execution_count": 25,
   "id": "3a771db4-606d-4412-8912-4ec74cd79d07",
   "metadata": {
    "execution": {
     "iopub.execute_input": "2022-04-05T16:00:16.510582Z",
     "iopub.status.busy": "2022-04-05T16:00:16.510321Z",
     "iopub.status.idle": "2022-04-05T16:00:30.131940Z",
     "shell.execute_reply": "2022-04-05T16:00:30.110442Z",
     "shell.execute_reply.started": "2022-04-05T16:00:16.510550Z"
    }
   },
   "outputs": [
    {
     "data": {
      "application/vnd.jupyter.widget-view+json": {
       "model_id": "74602f523ccd440189bace0d04ec7b2e",
       "version_major": 2,
       "version_minor": 0
      },
      "text/plain": [
       "VBox()"
      ]
     },
     "metadata": {},
     "output_type": "display_data"
    },
    {
     "data": {
      "application/vnd.jupyter.widget-view+json": {
       "model_id": "",
       "version_major": 2,
       "version_minor": 0
      },
      "text/plain": [
       "FloatProgress(value=0.0, bar_style='info', description='Progress:', layout=Layout(height='25px', width='50%'),…"
      ]
     },
     "metadata": {},
     "output_type": "display_data"
    }
   ],
   "source": [
    "model = rf.fit(training_data)"
   ]
  },
  {
   "cell_type": "markdown",
   "id": "914cffc8-5b7f-4d79-937c-16643c607285",
   "metadata": {},
   "source": [
    "This gives us the transformer. Finally, we can make predictions using the test dataset for evaluation:"
   ]
  },
  {
   "cell_type": "code",
   "execution_count": 28,
   "id": "bed04007-5f34-4266-ae56-87f9d4fe0354",
   "metadata": {
    "execution": {
     "iopub.execute_input": "2022-04-05T16:04:13.284921Z",
     "iopub.status.busy": "2022-04-05T16:04:13.284657Z",
     "iopub.status.idle": "2022-04-05T16:04:13.548021Z",
     "shell.execute_reply": "2022-04-05T16:04:13.547402Z",
     "shell.execute_reply.started": "2022-04-05T16:04:13.284891Z"
    }
   },
   "outputs": [
    {
     "data": {
      "application/vnd.jupyter.widget-view+json": {
       "model_id": "77d4268d71cc47eb865c1ba9bb430c2e",
       "version_major": 2,
       "version_minor": 0
      },
      "text/plain": [
       "VBox()"
      ]
     },
     "metadata": {},
     "output_type": "display_data"
    },
    {
     "data": {
      "application/vnd.jupyter.widget-view+json": {
       "model_id": "",
       "version_major": 2,
       "version_minor": 0
      },
      "text/plain": [
       "FloatProgress(value=0.0, bar_style='info', description='Progress:', layout=Layout(height='25px', width='50%'),…"
      ]
     },
     "metadata": {},
     "output_type": "display_data"
    }
   ],
   "source": [
    "predictions = model.transform(test_data)"
   ]
  },
  {
   "cell_type": "code",
   "execution_count": 31,
   "id": "89c9e9f8-4f0e-486b-9373-1673fc1d14cb",
   "metadata": {
    "execution": {
     "iopub.execute_input": "2022-04-05T16:05:08.048631Z",
     "iopub.status.busy": "2022-04-05T16:05:08.048376Z",
     "iopub.status.idle": "2022-04-05T16:05:08.812967Z",
     "shell.execute_reply": "2022-04-05T16:05:08.812243Z",
     "shell.execute_reply.started": "2022-04-05T16:05:08.048604Z"
    }
   },
   "outputs": [
    {
     "data": {
      "application/vnd.jupyter.widget-view+json": {
       "model_id": "5248bae03f1845dfba381406fc074d7c",
       "version_major": 2,
       "version_minor": 0
      },
      "text/plain": [
       "VBox()"
      ]
     },
     "metadata": {},
     "output_type": "display_data"
    },
    {
     "data": {
      "application/vnd.jupyter.widget-view+json": {
       "model_id": "",
       "version_major": 2,
       "version_minor": 0
      },
      "text/plain": [
       "FloatProgress(value=0.0, bar_style='info', description='Progress:', layout=Layout(height='25px', width='50%'),…"
      ]
     },
     "metadata": {},
     "output_type": "display_data"
    },
    {
     "name": "stdout",
     "output_type": "stream",
     "text": [
      "+--------+------+----+--------+------+-------+--------------------+--------------------+--------------------+----------+\n",
      "|Survived|Pclass| Age|    Fare|Gender|Boarded|            features|       rawPrediction|         probability|prediction|\n",
      "+--------+------+----+--------+------+-------+--------------------+--------------------+--------------------+----------+\n",
      "|     0.0|   1.0| 2.0|  151.55|   1.0|    0.0|[1.0,2.0,151.5500...|[0.24137293621325...|[0.01206864681066...|       1.0|\n",
      "|     0.0|   1.0|19.0|    53.1|   0.0|    0.0|[1.0,19.0,53.0999...|[11.8842540950325...|[0.59421270475162...|       0.0|\n",
      "|     0.0|   1.0|24.0|    79.2|   0.0|    1.0|[1.0,24.0,79.1999...|[8.57008643434789...|[0.42850432171739...|       1.0|\n",
      "|     0.0|   1.0|24.0|247.5208|   0.0|    1.0|[1.0,24.0,247.520...|[9.92956151092823...|[0.49647807554641...|       1.0|\n",
      "|     0.0|   1.0|30.0|   27.75|   0.0|    1.0|[1.0,30.0,27.75,0...|[6.54807315252230...|[0.32740365762611...|       1.0|\n",
      "|     0.0|   1.0|31.0| 50.4958|   0.0|    0.0|[1.0,31.0,50.4958...|[10.2254522406798...|[0.51127261203399...|       0.0|\n",
      "|     0.0|   1.0|33.0|     5.0|   0.0|    0.0|[1.0,33.0,5.0,0.0...|[14.3940778766044...|[0.71970389383022...|       0.0|\n",
      "|     0.0|   1.0|38.0|153.4625|   0.0|    0.0|[1.0,38.0,153.462...|[11.8017565000349...|[0.59008782500174...|       0.0|\n",
      "|     0.0|   1.0|44.0|    90.0|   0.0|    2.0|[1.0,44.0,90.0,0....|[9.83990047107369...|[0.49199502355368...|       1.0|\n",
      "|     0.0|   1.0|45.0|   26.55|   0.0|    0.0|[1.0,45.0,26.5499...|[11.9777883167962...|[0.59888941583981...|       0.0|\n",
      "|     0.0|   1.0|45.5|    28.5|   0.0|    0.0|[1.0,45.5,28.5,0....|[11.9777883167962...|[0.59888941583981...|       0.0|\n",
      "|     0.0|   1.0|46.0|  61.175|   0.0|    0.0|[1.0,46.0,61.1749...|[12.6511334286301...|[0.63255667143150...|       0.0|\n",
      "|     0.0|   1.0|50.0|    55.9|   0.0|    0.0|[1.0,50.0,55.9000...|[11.7804601055375...|[0.58902300527687...|       0.0|\n",
      "|     0.0|   1.0|50.0| 106.425|   0.0|    1.0|[1.0,50.0,106.425...|[11.6204227572648...|[0.58102113786324...|       0.0|\n",
      "|     0.0|   1.0|54.0| 77.2875|   0.0|    0.0|[1.0,54.0,77.2874...|[13.7934248640904...|[0.68967124320452...|       0.0|\n",
      "|     0.0|   1.0|58.0| 113.275|   0.0|    1.0|[1.0,58.0,113.275...|[12.8342131092131...|[0.64171065546065...|       0.0|\n",
      "|     0.0|   1.0|61.0| 32.3208|   0.0|    0.0|[1.0,61.0,32.3208...|[18.0069160790122...|[0.90034580395061...|       0.0|\n",
      "|     0.0|   1.0|62.0|   26.55|   0.0|    0.0|[1.0,62.0,26.5499...|[17.5140589361551...|[0.87570294680775...|       0.0|\n",
      "|     0.0|   1.0|65.0| 61.9792|   0.0|    1.0|[1.0,65.0,61.9791...|[13.8166692495639...|[0.69083346247819...|       0.0|\n",
      "|     0.0|   1.0|70.0|    71.0|   0.0|    0.0|[1.0,70.0,71.0,0....|[14.6355301272483...|[0.73177650636241...|       0.0|\n",
      "+--------+------+----+--------+------+-------+--------------------+--------------------+--------------------+----------+\n",
      "only showing top 20 rows"
     ]
    }
   ],
   "source": [
    "predictions.show()"
   ]
  },
  {
   "cell_type": "markdown",
   "id": "1524f803-d006-4613-9253-97b26a5a40bc",
   "metadata": {},
   "source": [
    "We have now successfully created an ML model. Now let’s see how well we did. For that, we will use a basic metric called the accuracy."
   ]
  },
  {
   "cell_type": "code",
   "execution_count": 29,
   "id": "76d0fcc9-8be2-471d-a0e5-2e42f9c4358f",
   "metadata": {
    "execution": {
     "iopub.execute_input": "2022-04-05T16:04:47.791021Z",
     "iopub.status.busy": "2022-04-05T16:04:47.790736Z",
     "iopub.status.idle": "2022-04-05T16:04:47.846526Z",
     "shell.execute_reply": "2022-04-05T16:04:47.845735Z",
     "shell.execute_reply.started": "2022-04-05T16:04:47.790990Z"
    },
    "tags": []
   },
   "outputs": [
    {
     "data": {
      "application/vnd.jupyter.widget-view+json": {
       "model_id": "130e1cccb58f443b8d00decb399936e4",
       "version_major": 2,
       "version_minor": 0
      },
      "text/plain": [
       "VBox()"
      ]
     },
     "metadata": {},
     "output_type": "display_data"
    },
    {
     "data": {
      "application/vnd.jupyter.widget-view+json": {
       "model_id": "",
       "version_major": 2,
       "version_minor": 0
      },
      "text/plain": [
       "FloatProgress(value=0.0, bar_style='info', description='Progress:', layout=Layout(height='25px', width='50%'),…"
      ]
     },
     "metadata": {},
     "output_type": "display_data"
    }
   ],
   "source": [
    "from pyspark.ml.evaluation import MulticlassClassificationEvaluator\n",
    "evaluator = MulticlassClassificationEvaluator(\n",
    "    labelCol='Survived', \n",
    "    predictionCol='prediction', \n",
    "    metricName='accuracy')"
   ]
  },
  {
   "cell_type": "code",
   "execution_count": 30,
   "id": "11ef86c7-2489-4168-9e54-034a9573fc56",
   "metadata": {
    "execution": {
     "iopub.execute_input": "2022-04-05T16:04:50.468380Z",
     "iopub.status.busy": "2022-04-05T16:04:50.468120Z",
     "iopub.status.idle": "2022-04-05T16:05:01.777105Z",
     "shell.execute_reply": "2022-04-05T16:05:01.776513Z",
     "shell.execute_reply.started": "2022-04-05T16:04:50.468348Z"
    },
    "tags": []
   },
   "outputs": [
    {
     "data": {
      "application/vnd.jupyter.widget-view+json": {
       "model_id": "e5e296994ccb4235aa111334dcc8bfc9",
       "version_major": 2,
       "version_minor": 0
      },
      "text/plain": [
       "VBox()"
      ]
     },
     "metadata": {},
     "output_type": "display_data"
    },
    {
     "data": {
      "application/vnd.jupyter.widget-view+json": {
       "model_id": "",
       "version_major": 2,
       "version_minor": 0
      },
      "text/plain": [
       "FloatProgress(value=0.0, bar_style='info', description='Progress:', layout=Layout(height='25px', width='50%'),…"
      ]
     },
     "metadata": {},
     "output_type": "display_data"
    }
   ],
   "source": [
    "accuracy = evaluator.evaluate(predictions)"
   ]
  },
  {
   "cell_type": "code",
   "execution_count": 32,
   "id": "c2f89cc5-2573-452c-9528-b4c90ae1b88a",
   "metadata": {
    "execution": {
     "iopub.execute_input": "2022-04-05T16:05:34.685043Z",
     "iopub.status.busy": "2022-04-05T16:05:34.684779Z",
     "iopub.status.idle": "2022-04-05T16:05:34.741049Z",
     "shell.execute_reply": "2022-04-05T16:05:34.740451Z",
     "shell.execute_reply.started": "2022-04-05T16:05:34.685012Z"
    }
   },
   "outputs": [
    {
     "data": {
      "application/vnd.jupyter.widget-view+json": {
       "model_id": "3a87394a11a64582948013eadb93ef8c",
       "version_major": 2,
       "version_minor": 0
      },
      "text/plain": [
       "VBox()"
      ]
     },
     "metadata": {},
     "output_type": "display_data"
    },
    {
     "data": {
      "application/vnd.jupyter.widget-view+json": {
       "model_id": "",
       "version_major": 2,
       "version_minor": 0
      },
      "text/plain": [
       "FloatProgress(value=0.0, bar_style='info', description='Progress:', layout=Layout(height='25px', width='50%'),…"
      ]
     },
     "metadata": {},
     "output_type": "display_data"
    },
    {
     "name": "stdout",
     "output_type": "stream",
     "text": [
      "0.7971698113207547"
     ]
    }
   ],
   "source": [
    "accuracy"
   ]
  },
  {
   "cell_type": "markdown",
   "id": "571f6f24-e595-4ff7-8817-59bc4bdaf21e",
   "metadata": {},
   "source": [
    "Our model's accuracy is 79.7%"
   ]
  },
  {
   "cell_type": "code",
   "execution_count": null,
   "id": "7e928ce7-ec5a-4bac-83ff-f1f76c169b42",
   "metadata": {},
   "outputs": [],
   "source": [
    "sc.uninstall_package('pandas')"
   ]
  }
 ],
 "metadata": {
  "kernelspec": {
   "display_name": "PySpark",
   "language": "",
   "name": "pysparkkernel"
  },
  "language_info": {
   "codemirror_mode": {
    "name": "python",
    "version": 3
   },
   "mimetype": "text/x-python",
   "name": "pyspark",
   "pygments_lexer": "python3"
  }
 },
 "nbformat": 4,
 "nbformat_minor": 5
}
